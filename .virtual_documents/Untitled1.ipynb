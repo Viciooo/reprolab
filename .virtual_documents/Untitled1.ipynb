from reprolab.experiment import start_experiment, end_experiment
start_experiment()


from reprolab.environment import create_new_venv
create_new_venv('.my_venv')








from reprolab.environment import freeze_venv_dependencies
freeze_venv_dependencies('.my_venv')


end_experiment()


from reprolab.experiment import list_and_sort_git_tags
list_and_sort_git_tags()
# Pick your git tag, to download the reproducability package



