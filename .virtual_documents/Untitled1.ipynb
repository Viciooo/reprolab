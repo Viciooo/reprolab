from reprolab.experiment import start_experiment, end_experiment
start_experiment()


from reprolab.environment import create_new_venv
create_new_venv('.my_venv')








from reprolab.environment import freeze_venv_dependencies
freeze_venv_dependencies('.my_venv')



