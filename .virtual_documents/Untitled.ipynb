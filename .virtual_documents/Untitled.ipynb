import subprocess
import re

def list_and_sort_git_tags(repo_path='.'):
    try:
        result = subprocess.run(
            ['git', '-C', repo_path, 'tag'],
            check=True,
            stdout=subprocess.PIPE,
            stderr=subprocess.PIPE,
            text=True
        )
        tags = result.stdout.strip().split('\n')
        tags = [tag for tag in tags if tag]

        # Convert tags like v1.2.3 to 123 for sorting
        def tag_to_sort_key(tag):
            match = re.match(r'v(\d+)\.(\d+)\.(\d+)', tag)
            if match:
                return int(''.join(match.groups()))
            return -1  # Push malformed tags to the end

        sorted_tags = sorted(tags, key=tag_to_sort_key, reverse=True)
        return sorted_tags
    except subprocess.CalledProcessError as e:
        print(f"Error listing tags: {e.stderr}")
        return []

# Example usage
sorted_tags = list_and_sort_git_tags()
print(sorted_tags)




