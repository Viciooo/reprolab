





from reprolab.experiment import list_and_sort_git_tags
list_and_sort_git_tags()
# Pick your git tag, to download the reproducability package


from reprolab.experiment import download_reproducability_package
download_reproducability_package('<git_tag>')
