{
 "cells": [
  {
   "cell_type": "code",
   "execution_count": null,
   "id": "d991c0db-086a-4483-8cd4-5e12233aee58",
   "metadata": {},
   "outputs": [],
   "source": []
  },
  {
   "cell_type": "code",
   "execution_count": 1,
   "id": "e4e02e81-79d0-412d-b669-522df6e4c1e6",
   "metadata": {},
   "outputs": [
    {
     "name": "stdout",
     "output_type": "stream",
     "text": [
      "TAGS: ['v1.5.0', 'v1.4.0', 'v1.3.0', 'v1.2.0', 'v1.1.0', 'v1.0.0']\n"
     ]
    }
   ],
   "source": [
    "from reprolab.experiment import list_and_sort_git_tags\n",
    "tags = list_and_sort_git_tags()\n",
    "print(\"TAGS:\", tags)"
   ]
  },
  {
   "cell_type": "code",
   "execution_count": 2,
   "id": "fcfa4c27-09b9-458f-83bf-8866d199c969",
   "metadata": {},
   "outputs": [
    {
     "data": {
      "text/plain": [
       "['v1.5.0', 'v1.4.0', 'v1.3.0', 'v1.2.0', 'v1.1.0', 'v1.0.0']"
      ]
     },
     "execution_count": 2,
     "metadata": {},
     "output_type": "execute_result"
    }
   ],
   "source": [
    "from reprolab.experiment import list_and_sort_git_tags\n",
    "list_and_sort_git_tags()\n",
    "# Pick your git tag, to download the reproducability package"
   ]
  },
  {
   "cell_type": "code",
   "execution_count": null,
   "id": "62fbfbd7-d764-4ee9-a819-d0c895bc3b78",
   "metadata": {},
   "outputs": [],
   "source": [
    "from reprolab.experiment import download_reproducability_package\n",
    "download_reproducability_package('<git_tag>')"
   ]
  }
 ],
 "metadata": {
  "kernelspec": {
   "display_name": "Python 3 (ipykernel)",
   "language": "python",
   "name": "python3"
  },
  "language_info": {
   "codemirror_mode": {
    "name": "ipython",
    "version": 3
   },
   "file_extension": ".py",
   "mimetype": "text/x-python",
   "name": "python",
   "nbconvert_exporter": "python",
   "pygments_lexer": "ipython3",
   "version": "3.12.7"
  }
 },
 "nbformat": 4,
 "nbformat_minor": 5
}
