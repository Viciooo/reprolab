{
 "cells": [
  {
   "cell_type": "code",
   "execution_count": 2,
   "id": "d9fb5cc5-e35c-4995-94a0-5d1371750f68",
   "metadata": {},
   "outputs": [
    {
     "name": "stdout",
     "output_type": "stream",
     "text": [
      "['v1.5.0', 'v1.4.0', 'v1.3.0', 'v1.2.0', 'v1.1.0', 'v1.0.0']\n"
     ]
    }
   ],
   "source": [
    "import subprocess\n",
    "import re\n",
    "\n",
    "def list_and_sort_git_tags(repo_path='.'):\n",
    "    try:\n",
    "        result = subprocess.run(\n",
    "            ['git', '-C', repo_path, 'tag'],\n",
    "            check=True,\n",
    "            stdout=subprocess.PIPE,\n",
    "            stderr=subprocess.PIPE,\n",
    "            text=True\n",
    "        )\n",
    "        tags = result.stdout.strip().split('\\n')\n",
    "        tags = [tag for tag in tags if tag]\n",
    "\n",
    "        # Convert tags like v1.2.3 to 123 for sorting\n",
    "        def tag_to_sort_key(tag):\n",
    "            match = re.match(r'v(\\d+)\\.(\\d+)\\.(\\d+)', tag)\n",
    "            if match:\n",
    "                return int(''.join(match.groups()))\n",
    "            return -1  # Push malformed tags to the end\n",
    "\n",
    "        sorted_tags = sorted(tags, key=tag_to_sort_key, reverse=True)\n",
    "        return sorted_tags\n",
    "    except subprocess.CalledProcessError as e:\n",
    "        print(f\"Error listing tags: {e.stderr}\")\n",
    "        return []\n",
    "\n",
    "# Example usage\n",
    "sorted_tags = list_and_sort_git_tags()\n",
    "print(sorted_tags)\n"
   ]
  },
  {
   "cell_type": "code",
   "execution_count": null,
   "id": "fcf25ebc-1635-4afc-9031-5421aaa915b9",
   "metadata": {},
   "outputs": [],
   "source": []
  }
 ],
 "metadata": {
  "kernelspec": {
   "display_name": "Python (my_venv)",
   "language": "python",
   "name": "my_venv_kernel"
  },
  "language_info": {
   "codemirror_mode": {
    "name": "ipython",
    "version": 3
   },
   "file_extension": ".py",
   "mimetype": "text/x-python",
   "name": "python",
   "nbconvert_exporter": "python",
   "pygments_lexer": "ipython3",
   "version": "3.12.7"
  }
 },
 "nbformat": 4,
 "nbformat_minor": 5
}
