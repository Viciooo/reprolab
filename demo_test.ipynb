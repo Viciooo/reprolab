{
 "cells": [
  {
   "cell_type": "code",
   "execution_count": null,
   "id": "c57d049c-b78c-4c68-be75-bef7c52d7789",
   "metadata": {},
   "outputs": [],
   "source": [
    "from reprolab import start_experiment, end_experiment\n",
    "start_experiment()"
   ]
  },
  {
   "cell_type": "code",
   "execution_count": null,
   "id": "b6baeda6-ef22-4126-b388-98d93d85b48b",
   "metadata": {},
   "outputs": [],
   "source": [
    "# Read and display the ReproLab documentation\n",
    "from IPython.display import Markdown\n",
    "import os\n",
    "\n",
    "# Read the markdown file\n",
    "with open('reprolab_data/demo.md', 'r') as f:\n",
    "    content = f.read()\n",
    "\n",
    "# Display the markdown content\n",
    "Markdown(content)"
   ]
  },
  {
   "cell_type": "code",
   "execution_count": null,
   "id": "e1482def-5f6e-4c92-8359-b58d197600e9",
   "metadata": {},
   "outputs": [],
   "source": [
    "end_experiment()"
   ]
  }
 ],
 "metadata": {
  "kernelspec": {
   "display_name": "Python 3 (ipykernel)",
   "language": "python",
   "name": "python3"
  },
  "language_info": {
   "codemirror_mode": {
    "name": "ipython",
    "version": 3
   },
   "file_extension": ".py",
   "mimetype": "text/x-python",
   "name": "python",
   "nbconvert_exporter": "python",
   "pygments_lexer": "ipython3",
   "version": "3.11.0"
  }
 },
 "nbformat": 4,
 "nbformat_minor": 5
}
