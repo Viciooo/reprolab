{
 "cells": [
  {
   "cell_type": "code",
   "execution_count": null,
   "id": "1bab349b-036f-4a62-9929-440cc6f33f6f",
   "metadata": {},
   "outputs": [],
   "source": [
    "from reprolab import start_experiment, end_experiment\n",
    "start_experiment()"
   ]
  },
  {
   "cell_type": "code",
   "execution_count": null,
   "id": "01c35fa8-0405-4189-83db-26ac6ef5a460",
   "metadata": {},
   "outputs": [],
   "source": []
  },
  {
   "cell_type": "code",
   "execution_count": null,
   "id": "d1cb298e-66dc-44df-b7dd-58377807eca9",
   "metadata": {},
   "outputs": [],
   "source": []
  },
  {
   "cell_type": "code",
   "execution_count": null,
   "id": "d4100665-143f-433f-93de-56de596a123c",
   "metadata": {},
   "outputs": [],
   "source": [
    "end_experiment()"
   ]
  }
 ],
 "metadata": {
  "kernelspec": {
   "display_name": "Python 3 (ipykernel)",
   "language": "python",
   "name": "python3"
  },
  "language_info": {
   "codemirror_mode": {
    "name": "ipython",
    "version": 3
   },
   "file_extension": ".py",
   "mimetype": "text/x-python",
   "name": "python",
   "nbconvert_exporter": "python",
   "pygments_lexer": "ipython3",
   "version": "3.11.0"
  }
 },
 "nbformat": 4,
 "nbformat_minor": 5
}
