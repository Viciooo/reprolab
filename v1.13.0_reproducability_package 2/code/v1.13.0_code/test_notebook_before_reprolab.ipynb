{
 "cells": [
  {
   "cell_type": "code",
   "execution_count": 1,
   "id": "16a01c42-59de-4c4b-a04b-fb4a1d54756c",
   "metadata": {},
   "outputs": [
    {
     "name": "stderr",
     "output_type": "stream",
     "text": [
      "2025-06-24 17:38:00 - INFO - Starting experiment process\n",
      "2025-06-24 17:38:00 - INFO - Step 1: Saving all notebooks\n",
      "2025-06-24 17:38:00 - INFO - Attempting to save all Jupyter notebooks...\n",
      "2025-06-24 17:38:00 - INFO - ipylab save command executed successfully\n",
      "2025-06-24 17:38:00 - INFO - nbformat processing completed for 4 notebooks\n",
      "2025-06-24 17:38:01 - INFO - Jupyter save commands executed successfully\n",
      "2025-06-24 17:38:01 - INFO - All save methods completed\n",
      "2025-06-24 17:38:01 - INFO - Step 2: Determining next tag name\n",
      "2025-06-24 17:38:01 - INFO - Determining next tag name\n",
      "2025-06-24 17:38:01 - INFO - Fetching all tags from remote repositories\n",
      "2025-06-24 17:38:03 - INFO - Found 13 tags: ['v1.0.0', 'v1.1.0', 'v1.10.0', 'v1.11.0', 'v1.12.0', 'v1.2.0', 'v1.3.0', 'v1.4.0', 'v1.5.0', 'v1.6.0', 'v1.7.0', 'v1.8.0', 'v1.9.0']\n",
      "2025-06-24 17:38:03 - INFO - Latest tag: v1.12.0, next tag: v1.13.0\n",
      "2025-06-24 17:38:03 - INFO - Step 3: Committing with message: 'Project state before running experiment v1.13.0'\n",
      "2025-06-24 17:38:03 - INFO - Starting commit process with message: 'Project state before running experiment v1.13.0'\n",
      "2025-06-24 17:38:03 - INFO - Adding all files to staging area\n",
      "2025-06-24 17:38:03 - INFO - Starting process to add all files to git staging area\n",
      "2025-06-24 17:38:03 - INFO - Checking git status for all files\n",
      "2025-06-24 17:38:03 - INFO - Found 4 untracked files\n",
      "2025-06-24 17:38:03 - INFO - Found 0 modified files\n",
      "2025-06-24 17:38:03 - INFO - Found 0 deleted files\n",
      "2025-06-24 17:38:03 - INFO - Adding all files to git staging\n",
      "2025-06-24 17:38:03 - INFO - Successfully added all files to staging\n",
      "2025-06-24 17:38:03 - INFO - Checking for staged changes\n",
      "2025-06-24 17:38:03 - INFO - Staged 6 files for commit\n",
      "2025-06-24 17:38:03 - INFO - Creating commit with message: 'Project state before running experiment v1.13.0'\n",
      "2025-06-24 17:38:03 - INFO - Successfully committed: Project state before running experiment v1.13.0\n",
      "2025-06-24 17:38:03 - INFO - Successfully started experiment: v1.13.0\n"
     ]
    },
    {
     "data": {
      "text/plain": [
       "'v1.13.0'"
      ]
     },
     "execution_count": 1,
     "metadata": {},
     "output_type": "execute_result"
    }
   ],
   "source": [
    "from reprolab.experiment import start_experiment, end_experiment\n",
    "start_experiment()"
   ]
  },
  {
   "cell_type": "code",
   "execution_count": 2,
   "id": "0cb11300-04a0-4783-b732-97d85c388cc2",
   "metadata": {},
   "outputs": [
    {
     "name": "stdout",
     "output_type": "stream",
     "text": [
      "Requirement already satisfied: pandas in /opt/homebrew/anaconda3/lib/python3.12/site-packages (2.2.2)\n",
      "Requirement already satisfied: numpy>=1.26.0 in /opt/homebrew/anaconda3/lib/python3.12/site-packages (from pandas) (1.26.4)\n",
      "Requirement already satisfied: python-dateutil>=2.8.2 in /opt/homebrew/anaconda3/lib/python3.12/site-packages (from pandas) (2.9.0.post0)\n",
      "Requirement already satisfied: pytz>=2020.1 in /opt/homebrew/anaconda3/lib/python3.12/site-packages (from pandas) (2024.1)\n",
      "Requirement already satisfied: tzdata>=2022.7 in /opt/homebrew/anaconda3/lib/python3.12/site-packages (from pandas) (2025.2)\n",
      "Requirement already satisfied: six>=1.5 in /opt/homebrew/anaconda3/lib/python3.12/site-packages (from python-dateutil>=2.8.2->pandas) (1.16.0)\n",
      "Initial CSV data:\n",
      "                   title               author  publication_year\n",
      "0       The Great Gatsby  F. Scott Fitzgerald              1925\n",
      "1                   1984        George Orwell              1949\n",
      "2  To Kill a Mockingbird           Harper Lee              1960\n"
     ]
    }
   ],
   "source": [
    "# Cell 1: Loading CSV data from local file\n",
    "!pip install pandas\n",
    "\n",
    "import pandas as pd\n",
    "books_csv = pd.read_csv('books.csv')\n",
    "print(\"Initial CSV data:\")\n",
    "print(books_csv.head())\n"
   ]
  },
  {
   "cell_type": "code",
   "execution_count": 3,
   "id": "5a6b18a4-ce37-43e3-9c73-76e3fc87ad9a",
   "metadata": {},
   "outputs": [
    {
     "name": "stdout",
     "output_type": "stream",
     "text": [
      "env: OPENLIBRARY_API_KEY=your api key\n"
     ]
    }
   ],
   "source": [
    "# Cell 2: Setting API key\n",
    "%env OPENLIBRARY_API_KEY=your api key\n"
   ]
  },
  {
   "cell_type": "code",
   "execution_count": 4,
   "id": "91cc59d4-4968-49fb-a6ac-7fc4fbc59635",
   "metadata": {},
   "outputs": [
    {
     "name": "stdout",
     "output_type": "stream",
     "text": [
      "Requirement already satisfied: requests in /opt/homebrew/anaconda3/lib/python3.12/site-packages (2.32.3)\n",
      "Requirement already satisfied: charset-normalizer<4,>=2 in /opt/homebrew/anaconda3/lib/python3.12/site-packages (from requests) (3.3.2)\n",
      "Requirement already satisfied: idna<4,>=2.5 in /opt/homebrew/anaconda3/lib/python3.12/site-packages (from requests) (3.7)\n",
      "Requirement already satisfied: urllib3<3,>=1.21.1 in /opt/homebrew/anaconda3/lib/python3.12/site-packages (from requests) (2.2.3)\n",
      "Requirement already satisfied: certifi>=2017.4.17 in /opt/homebrew/anaconda3/lib/python3.12/site-packages (from requests) (2024.8.30)\n"
     ]
    },
    {
     "data": {
      "text/html": [
       "<div>\n",
       "<style scoped>\n",
       "    .dataframe tbody tr th:only-of-type {\n",
       "        vertical-align: middle;\n",
       "    }\n",
       "\n",
       "    .dataframe tbody tr th {\n",
       "        vertical-align: top;\n",
       "    }\n",
       "\n",
       "    .dataframe thead th {\n",
       "        text-align: right;\n",
       "    }\n",
       "</style>\n",
       "<table border=\"1\" class=\"dataframe\">\n",
       "  <thead>\n",
       "    <tr style=\"text-align: right;\">\n",
       "      <th></th>\n",
       "      <th>isbn</th>\n",
       "      <th>page_count</th>\n",
       "      <th>first_publish</th>\n",
       "    </tr>\n",
       "  </thead>\n",
       "  <tbody>\n",
       "    <tr>\n",
       "      <th>0</th>\n",
       "      <td>N/A</td>\n",
       "      <td>0</td>\n",
       "      <td>1920</td>\n",
       "    </tr>\n",
       "    <tr>\n",
       "      <th>1</th>\n",
       "      <td>N/A</td>\n",
       "      <td>0</td>\n",
       "      <td>2003</td>\n",
       "    </tr>\n",
       "    <tr>\n",
       "      <th>2</th>\n",
       "      <td>N/A</td>\n",
       "      <td>0</td>\n",
       "      <td>1960</td>\n",
       "    </tr>\n",
       "  </tbody>\n",
       "</table>\n",
       "</div>"
      ],
      "text/plain": [
       "  isbn  page_count  first_publish\n",
       "0  N/A           0           1920\n",
       "1  N/A           0           2003\n",
       "2  N/A           0           1960"
      ]
     },
     "execution_count": 4,
     "metadata": {},
     "output_type": "execute_result"
    }
   ],
   "source": [
    "# Cell 3: Getting API data\n",
    "!pip install requests\n",
    "import requests\n",
    "import pandas as pd\n",
    "import os\n",
    "\n",
    "\n",
    "def get_book_details(title):\n",
    "    OPENLIBRARY_API_KEY = os.environ['OPENLIBRARY_API_KEY']\n",
    "    \n",
    "    url = f\"https://openlibrary.org/search.json?title={title}&apikey={OPENLIBRARY_API_KEY}\"\n",
    "    response = requests.get(url)\n",
    "    if response.status_code == 200:\n",
    "        data = response.json()\n",
    "        if data['docs']:\n",
    "            book = data['docs'][0]\n",
    "            return {\n",
    "                'isbn': book.get('isbn', ['N/A'])[0],\n",
    "                'page_count': book.get('number_of_pages_median', 0),\n",
    "                'first_publish': book.get('first_publish_year', None)\n",
    "            }\n",
    "    return {'isbn': 'N/A', 'page_count': 0, 'first_publish': None}\n",
    "\n",
    "api_data = books_csv['title'].apply(get_book_details)\n",
    "api_df = pd.DataFrame(api_data.tolist())\n",
    "api_df\n"
   ]
  },
  {
   "cell_type": "code",
   "execution_count": 5,
   "id": "c9e34fbe-af7d-426a-8d61-cb33c2df7eed",
   "metadata": {},
   "outputs": [
    {
     "data": {
      "text/html": [
       "<div>\n",
       "<style scoped>\n",
       "    .dataframe tbody tr th:only-of-type {\n",
       "        vertical-align: middle;\n",
       "    }\n",
       "\n",
       "    .dataframe tbody tr th {\n",
       "        vertical-align: top;\n",
       "    }\n",
       "\n",
       "    .dataframe thead th {\n",
       "        text-align: right;\n",
       "    }\n",
       "</style>\n",
       "<table border=\"1\" class=\"dataframe\">\n",
       "  <thead>\n",
       "    <tr style=\"text-align: right;\">\n",
       "      <th></th>\n",
       "      <th>title</th>\n",
       "      <th>genre</th>\n",
       "      <th>rating</th>\n",
       "      <th>price</th>\n",
       "    </tr>\n",
       "  </thead>\n",
       "  <tbody>\n",
       "    <tr>\n",
       "      <th>0</th>\n",
       "      <td>The Great Gatsby</td>\n",
       "      <td>Fiction</td>\n",
       "      <td>4.5</td>\n",
       "      <td>12.99</td>\n",
       "    </tr>\n",
       "    <tr>\n",
       "      <th>1</th>\n",
       "      <td>1984</td>\n",
       "      <td>Dystopian</td>\n",
       "      <td>4.8</td>\n",
       "      <td>15.99</td>\n",
       "    </tr>\n",
       "    <tr>\n",
       "      <th>2</th>\n",
       "      <td>To Kill a Mockingbird</td>\n",
       "      <td>Literary Fiction</td>\n",
       "      <td>4.7</td>\n",
       "      <td>14.99</td>\n",
       "    </tr>\n",
       "  </tbody>\n",
       "</table>\n",
       "</div>"
      ],
      "text/plain": [
       "                   title             genre  rating  price\n",
       "0       The Great Gatsby           Fiction     4.5  12.99\n",
       "1                   1984         Dystopian     4.8  15.99\n",
       "2  To Kill a Mockingbird  Literary Fiction     4.7  14.99"
      ]
     },
     "execution_count": 5,
     "metadata": {},
     "output_type": "execute_result"
    }
   ],
   "source": [
    "# Cell 4: Create and track dictionary data\n",
    "book_categories = {\n",
    "    \"The Great Gatsby\": {\"genre\": \"Fiction\", \"rating\": 4.5, \"price\": 12.99},\n",
    "    \"1984\": {\"genre\": \"Dystopian\", \"rating\": 4.8, \"price\": 15.99},\n",
    "    \"To Kill a Mockingbird\": {\"genre\": \"Literary Fiction\", \"rating\": 4.7, \"price\": 14.99}\n",
    "}\n",
    "\n",
    "category_df = pd.DataFrame.from_dict(book_categories, orient='index')\n",
    "category_df.index.name = 'title'\n",
    "category_df = category_df.reset_index()\n",
    "category_df\n"
   ]
  },
  {
   "cell_type": "code",
   "execution_count": 6,
   "id": "a735c8c5-60c7-4a30-b6e5-98c9e6ac1854",
   "metadata": {},
   "outputs": [],
   "source": [
    "# Cell 5: Combine datasets and perform transformations\n",
    "from datetime import datetime\n",
    "\n",
    "combined_df = pd.concat([books_csv, api_df], axis=1)\n",
    "final_df = pd.merge(combined_df, category_df, on='title', how='left')\n",
    "\n",
    "current_year = datetime.now().year\n",
    "final_df['book_age'] = current_year - final_df['publication_year']\n",
    "final_df['price_per_page'] = final_df['price'] / final_df['page_count'].replace(0, 1)\n",
    "\n",
    "def rating_category(rating):\n",
    "    if rating >= 4.5:\n",
    "        return 'Excellent'\n",
    "    elif rating >= 4.0:\n",
    "        return 'Good'\n",
    "    else:\n",
    "        return 'Average'\n",
    "\n",
    "final_df['rating_category'] = final_df['rating'].apply(rating_category)\n"
   ]
  },
  {
   "cell_type": "code",
   "execution_count": 7,
   "id": "464ff23b-c8f9-43d1-a8e7-13ed773150cf",
   "metadata": {},
   "outputs": [
    {
     "name": "stdout",
     "output_type": "stream",
     "text": [
      "Requirement already satisfied: matplotlib in /opt/homebrew/anaconda3/lib/python3.12/site-packages (3.9.2)\n",
      "Requirement already satisfied: contourpy>=1.0.1 in /opt/homebrew/anaconda3/lib/python3.12/site-packages (from matplotlib) (1.2.0)\n",
      "Requirement already satisfied: cycler>=0.10 in /opt/homebrew/anaconda3/lib/python3.12/site-packages (from matplotlib) (0.11.0)\n",
      "Requirement already satisfied: fonttools>=4.22.0 in /opt/homebrew/anaconda3/lib/python3.12/site-packages (from matplotlib) (4.51.0)\n",
      "Requirement already satisfied: kiwisolver>=1.3.1 in /opt/homebrew/anaconda3/lib/python3.12/site-packages (from matplotlib) (1.4.4)\n",
      "Requirement already satisfied: numpy>=1.23 in /opt/homebrew/anaconda3/lib/python3.12/site-packages (from matplotlib) (1.26.4)\n",
      "Requirement already satisfied: packaging>=20.0 in /opt/homebrew/anaconda3/lib/python3.12/site-packages (from matplotlib) (24.1)\n",
      "Requirement already satisfied: pillow>=8 in /opt/homebrew/anaconda3/lib/python3.12/site-packages (from matplotlib) (10.4.0)\n",
      "Requirement already satisfied: pyparsing>=2.3.1 in /opt/homebrew/anaconda3/lib/python3.12/site-packages (from matplotlib) (3.1.2)\n",
      "Requirement already satisfied: python-dateutil>=2.7 in /opt/homebrew/anaconda3/lib/python3.12/site-packages (from matplotlib) (2.9.0.post0)\n",
      "Requirement already satisfied: six>=1.5 in /opt/homebrew/anaconda3/lib/python3.12/site-packages (from python-dateutil>=2.7->matplotlib) (1.16.0)\n"
     ]
    },
    {
     "ename": "ModuleNotFoundError",
     "evalue": "No module named 'matplotlib'",
     "output_type": "error",
     "traceback": [
      "\u001b[31m---------------------------------------------------------------------------\u001b[39m",
      "\u001b[31mModuleNotFoundError\u001b[39m                       Traceback (most recent call last)",
      "\u001b[36mCell\u001b[39m\u001b[36m \u001b[39m\u001b[32mIn[7]\u001b[39m\u001b[32m, line 8\u001b[39m\n\u001b[32m      2\u001b[39m genre_summary = final_df.groupby(\u001b[33m'\u001b[39m\u001b[33mgenre\u001b[39m\u001b[33m'\u001b[39m).agg({\n\u001b[32m      3\u001b[39m     \u001b[33m'\u001b[39m\u001b[33mrating\u001b[39m\u001b[33m'\u001b[39m: \u001b[33m'\u001b[39m\u001b[33mmean\u001b[39m\u001b[33m'\u001b[39m,\n\u001b[32m      4\u001b[39m     \u001b[33m'\u001b[39m\u001b[33mprice\u001b[39m\u001b[33m'\u001b[39m: \u001b[33m'\u001b[39m\u001b[33mmean\u001b[39m\u001b[33m'\u001b[39m,\n\u001b[32m      5\u001b[39m     \u001b[33m'\u001b[39m\u001b[33mpage_count\u001b[39m\u001b[33m'\u001b[39m: \u001b[33m'\u001b[39m\u001b[33mmean\u001b[39m\u001b[33m'\u001b[39m\n\u001b[32m      6\u001b[39m }).round(\u001b[32m2\u001b[39m)\n\u001b[32m      7\u001b[39m get_ipython().system(\u001b[33m'\u001b[39m\u001b[33mpip install matplotlib\u001b[39m\u001b[33m'\u001b[39m)\n\u001b[32m----> \u001b[39m\u001b[32m8\u001b[39m \u001b[38;5;28;01mimport\u001b[39;00m\u001b[38;5;250m \u001b[39m\u001b[34;01mmatplotlib\u001b[39;00m\u001b[34;01m.\u001b[39;00m\u001b[34;01mpyplot\u001b[39;00m\u001b[38;5;250m \u001b[39m\u001b[38;5;28;01mas\u001b[39;00m\u001b[38;5;250m \u001b[39m\u001b[34;01mplt\u001b[39;00m\n\u001b[32m     10\u001b[39m plt.figure(figsize=(\u001b[32m10\u001b[39m, \u001b[32m6\u001b[39m))\n\u001b[32m     11\u001b[39m final_df.plot(kind=\u001b[33m'\u001b[39m\u001b[33mscatter\u001b[39m\u001b[33m'\u001b[39m, x=\u001b[33m'\u001b[39m\u001b[33mbook_age\u001b[39m\u001b[33m'\u001b[39m, y=\u001b[33m'\u001b[39m\u001b[33mprice\u001b[39m\u001b[33m'\u001b[39m, s=final_df[\u001b[33m'\u001b[39m\u001b[33mrating\u001b[39m\u001b[33m'\u001b[39m]*\u001b[32m100\u001b[39m, alpha=\u001b[32m0.5\u001b[39m)\n",
      "\u001b[31mModuleNotFoundError\u001b[39m: No module named 'matplotlib'"
     ]
    }
   ],
   "source": [
    "# Cell 6: Visualize results\n",
    "genre_summary = final_df.groupby('genre').agg({\n",
    "    'rating': 'mean',\n",
    "    'price': 'mean',\n",
    "    'page_count': 'mean'\n",
    "}).round(2)\n",
    "!pip install matplotlib\n",
    "import matplotlib.pyplot as plt\n",
    "\n",
    "plt.figure(figsize=(10, 6))\n",
    "final_df.plot(kind='scatter', x='book_age', y='price', s=final_df['rating']*100, alpha=0.5)\n",
    "plt.title('Book Age vs Price (size = rating)')\n",
    "plt.xlabel('Book Age (years)')\n",
    "plt.ylabel('Price ($)')\n",
    "plt.savefig(\"scatter_plot.png\")\n",
    "plt.show()\n"
   ]
  },
  {
   "cell_type": "code",
   "execution_count": null,
   "id": "d77f6bce-189d-45c0-aaa0-e0aa6140ae38",
   "metadata": {},
   "outputs": [],
   "source": [
    "from reprolab.environment import freeze_venv_dependencies\n",
    "freeze_venv_dependencies('.my_venv')"
   ]
  },
  {
   "cell_type": "code",
   "execution_count": null,
   "id": "d3dbc89c-0d15-4803-b6ea-c75ba635008b",
   "metadata": {},
   "outputs": [],
   "source": [
    "end_experiment()"
   ]
  }
 ],
 "metadata": {
  "kernelspec": {
   "display_name": "Python (.my_venv)",
   "language": "python",
   "name": ".my_venv_kernel"
  },
  "language_info": {
   "codemirror_mode": {
    "name": "ipython",
    "version": 3
   },
   "file_extension": ".py",
   "mimetype": "text/x-python",
   "name": "python",
   "nbconvert_exporter": "python",
   "pygments_lexer": "ipython3",
   "version": "3.12.7"
  }
 },
 "nbformat": 4,
 "nbformat_minor": 5
}
