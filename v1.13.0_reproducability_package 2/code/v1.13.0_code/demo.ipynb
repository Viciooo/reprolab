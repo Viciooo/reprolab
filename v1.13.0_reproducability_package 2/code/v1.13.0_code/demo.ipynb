{
 "cells": [
  {
   "cell_type": "code",
   "execution_count": 1,
   "id": "c6dc593a-dd12-420e-9a38-c26fc1b68e5d",
   "metadata": {},
   "outputs": [
    {
     "name": "stderr",
     "output_type": "stream",
     "text": [
      "2025-06-21 00:15:18 - INFO - Starting experiment process\n",
      "2025-06-21 00:15:18 - INFO - Step 1: Saving all notebooks\n",
      "2025-06-21 00:15:18 - INFO - Attempting to save all Jupyter notebooks...\n",
      "2025-06-21 00:15:18 - INFO - ipylab save command executed successfully\n",
      "2025-06-21 00:15:18 - INFO - nbformat processing completed for 3 notebooks\n",
      "2025-06-21 00:15:19 - INFO - Jupyter save commands executed successfully\n",
      "2025-06-21 00:15:19 - INFO - All save methods completed\n",
      "2025-06-21 00:15:19 - INFO - Step 2: Determining next tag name\n",
      "2025-06-21 00:15:19 - INFO - Determining next tag name\n",
      "2025-06-21 00:15:19 - INFO - Fetching all tags from remote repositories\n",
      "2025-06-21 00:15:20 - INFO - Found 11 tags: ['v1.0.0', 'v1.1.0', 'v1.10.0', 'v1.2.0', 'v1.3.0', 'v1.4.0', 'v1.5.0', 'v1.6.0', 'v1.7.0', 'v1.8.0', 'v1.9.0']\n",
      "2025-06-21 00:15:20 - INFO - Latest tag: v1.10.0, next tag: v1.11.0\n",
      "2025-06-21 00:15:20 - INFO - Step 3: Committing with message: 'Project state before running experiment v1.11.0'\n",
      "2025-06-21 00:15:20 - INFO - Starting commit process with message: 'Project state before running experiment v1.11.0'\n",
      "2025-06-21 00:15:20 - INFO - Adding all files to staging area\n",
      "2025-06-21 00:15:20 - INFO - Starting process to add all files to git staging area\n",
      "2025-06-21 00:15:20 - INFO - Checking git status for all files\n",
      "2025-06-21 00:15:20 - INFO - Found 0 untracked files\n",
      "2025-06-21 00:15:20 - INFO - Found 0 modified files\n",
      "2025-06-21 00:15:20 - INFO - Found 0 deleted files\n",
      "2025-06-21 00:15:20 - INFO - No changes detected, but proceeding with add anyway\n",
      "2025-06-21 00:15:20 - INFO - Adding all files to git staging\n",
      "2025-06-21 00:15:20 - INFO - Successfully added all files to staging\n",
      "2025-06-21 00:15:20 - INFO - Checking for staged changes\n",
      "2025-06-21 00:15:20 - INFO - Staged 3 files for commit\n",
      "2025-06-21 00:15:20 - INFO - Creating commit with message: 'Project state before running experiment v1.11.0'\n",
      "2025-06-21 00:15:21 - INFO - Successfully committed: Project state before running experiment v1.11.0\n",
      "2025-06-21 00:15:21 - INFO - Successfully started experiment: v1.11.0\n"
     ]
    },
    {
     "data": {
      "text/plain": [
       "'v1.11.0'"
      ]
     },
     "execution_count": 1,
     "metadata": {},
     "output_type": "execute_result"
    }
   ],
   "source": [
    "from reprolab.experiment import start_experiment, end_experiment\n",
    "start_experiment()"
   ]
  },
  {
   "cell_type": "markdown",
   "id": "9eaa5815-9602-44e4-91e2-01e1e8f98b7a",
   "metadata": {},
   "source": [
    "# ReproLab Demo\n",
    "\n",
    "Welcome to ReproLab! This extension helps you make your research more reproducible.\n",
    "\n",
    "## Features\n",
    "\n",
    "- **Create Experiments**: Automatically save immutable snapshots of your code under `git` tags to preserve the **exact code and outputs**\n",
    "- **Manage Dependencies**: Automatically gather and pin **exact package versions**, so that others can set up your environment with one command\n",
    "- **Cache Data**: Call external API/load manually dataset only once, caching function will handle the rest\n",
    "- **Archive Data**: Caching function can also preserve the compressed data in *AWS S3*, so you always know what data was used and reduce the API calls\n",
    "- **Publishing guide**: The reproducibility checklist & automated generation of reproducability package make publishing to platforms such as Zenodo very easy\n",
    "\n",
    "## Getting Started\n",
    "\n",
    "1. Use the sidebar to view ReproLab features\n",
    "2. Create virtual environment and pin your dependencies, go to reprolab section `Create reproducible environment` \n",
    "3. Create an experiment to save your current state, go to reprolab section `Create experiment`\n",
    "4. Archive your data for long-term storage, go to reprolab section `Demo` and play around with it.\n",
    "5. Publish your work when ready, remember to use reproducability checklist from the section `Reproducibility Checklist`\n",
    "\n",
    "## Example Usage of persistio decorator\n",
    "\n",
    "To cache and archive the datasets you use, both from local files and APIs we developed a simple decorator that put over your function that gets the datasets caches the file both locally and in the cloud so that the dataset you use is archived and the number of calls to external APIs is minimal and you don't need to keep the file around after you run it once.\n",
    "\n",
    "Here is an example using one of NASA open APIs. If you want to test it out yourself, you can copy the code, but you need to provide bucket name and access and secret key in the left-hand panel using the `AWS S3 Configuration` section.\n",
    "\n",
    "```python\n",
    "import requests\n",
    "import pandas as pd\n",
    "from io import StringIO\n",
    "\n",
    "# The two lines below is all that you need to add\n",
    "from reprolab.experiment import persistio\n",
    "@persistio()\n",
    "def get_exoplanets_data_from_nasa():\n",
    "    url = \"https://exoplanetarchive.ipac.caltech.edu/TAP/sync\"\n",
    "\n",
    "    query = \"\"\"\n",
    "    SELECT TOP 10\n",
    "        pl_name AS planet_name,\n",
    "        hostname AS host_star,\n",
    "        pl_orbper AS orbital_period_days,\n",
    "        pl_rade AS planet_radius_earth,\n",
    "        disc_year AS discovery_year\n",
    "    FROM\n",
    "        ps\n",
    "    WHERE\n",
    "        default_flag = 1\n",
    "    \"\"\"\n",
    "\n",
    "    params = {\n",
    "        \"query\": query,\n",
    "        \"format\": \"csv\"\n",
    "    }\n",
    "\n",
    "    response = requests.get(url, params=params)\n",
    "\n",
    "    if response.status_code == 200:\n",
    "        df = pd.read_csv(StringIO(response.text))\n",
    "        \n",
    "        print(df)\n",
    "        \n",
    "    else:\n",
    "        print(f\"Error: {response.status_code} - {response.text}\")\n",
    "    return df\n",
    "\n",
    "exoplanets_data = get_exoplanets_data_from_nasa()\n",
    "```\n",
    "\n",
    "If you run this cell twice you will notice from the logs that the second time file was read from the compressed file in the cache. If you were to lose access to local cache (e.g. by pulling the repository using different device) `persistio` would fetch the data from the cloud archive.\n",
    "\n",
    "\n",
    "For more information, visit our [documentation](https://github.com/your-repo/reprolab). \n"
   ]
  },
  {
   "cell_type": "code",
   "execution_count": 2,
   "id": "4258fd6c-7289-4a01-aecd-654779bcb9ff",
   "metadata": {},
   "outputs": [
    {
     "name": "stdout",
     "output_type": "stream",
     "text": [
      "\n",
      "[persistio] Function: get_exoplanets_data_from_nasa\n",
      "[persistio] Hash: ca840447667cb2059aa83ed68ec9e995\n",
      "✅ Metadata written to demo.ipynb_persistio_archive.yaml\n",
      "[persistio] Trigger logged for function: get_exoplanets_data_from_nasa\n",
      "[persistio] Attempting to load from local cache...\n",
      "[persistio] Successfully loaded from local cache!\n"
     ]
    }
   ],
   "source": [
    "import requests\n",
    "import pandas as pd\n",
    "from io import StringIO\n",
    "\n",
    "# The two lines below is all that you need to add\n",
    "from reprolab.experiment import persistio\n",
    "@persistio()\n",
    "def get_exoplanets_data_from_nasa():\n",
    "    url = \"https://exoplanetarchive.ipac.caltech.edu/TAP/sync\"\n",
    "\n",
    "    query = \"\"\"\n",
    "    SELECT TOP 10\n",
    "        pl_name AS planet_name,\n",
    "        hostname AS host_star,\n",
    "        pl_orbper AS orbital_period_days,\n",
    "        pl_rade AS planet_radius_earth,\n",
    "        disc_year AS discovery_year\n",
    "    FROM\n",
    "        ps\n",
    "    WHERE\n",
    "        default_flag = 1\n",
    "    \"\"\"\n",
    "\n",
    "    params = {\n",
    "        \"query\": query,\n",
    "        \"format\": \"csv\"\n",
    "    }\n",
    "\n",
    "    response = requests.get(url, params=params)\n",
    "\n",
    "    if response.status_code == 200:\n",
    "        df = pd.read_csv(StringIO(response.text))\n",
    "        \n",
    "        print(df)\n",
    "        \n",
    "    else:\n",
    "        print(f\"Error: {response.status_code} - {response.text}\")\n",
    "    return df\n",
    "\n",
    "exoplanets_data = get_exoplanets_data_from_nasa()\n"
   ]
  },
  {
   "cell_type": "code",
   "execution_count": 3,
   "id": "abfb8d45-7ae4-46c2-be48-f4663b15c906",
   "metadata": {},
   "outputs": [
    {
     "name": "stdout",
     "output_type": "stream",
     "text": [
      "testing\n"
     ]
    }
   ],
   "source": [
    "print('testing')\n"
   ]
  },
  {
   "cell_type": "code",
   "execution_count": 4,
   "id": "d9828505-28d5-4d22-b06f-398901e41445",
   "metadata": {},
   "outputs": [
    {
     "name": "stdout",
     "output_type": "stream",
     "text": [
      "Trying pip at: /Users/spoton/Documents/master_thesis/poc/reprolab/.my_venv/bin/pip\n",
      "Running command: /Users/spoton/Documents/master_thesis/poc/reprolab/.my_venv/bin/pip freeze\n",
      "Pip dependencies saved to requirements.txt\n",
      "Found 58 packages\n",
      "Not a Conda environment or not activated. Skipping Conda export.\n",
      "\n",
      "To recreate the environment:\n",
      "- For pip: Activate the virtual environment and run: `pip install -r requirements.txt`\n"
     ]
    }
   ],
   "source": [
    "from reprolab.environment import freeze_venv_dependencies\n",
    "freeze_venv_dependencies('.my_venv')"
   ]
  },
  {
   "cell_type": "code",
   "execution_count": 5,
   "id": "d51c91f9-b2ff-4cbd-915a-c25e8d2baa87",
   "metadata": {},
   "outputs": [
    {
     "name": "stderr",
     "output_type": "stream",
     "text": [
      "2025-06-21 00:15:21 - INFO - Ending experiment process\n",
      "2025-06-21 00:15:21 - INFO - Step 1: Saving all notebooks\n",
      "2025-06-21 00:15:21 - INFO - Attempting to save all Jupyter notebooks...\n",
      "2025-06-21 00:15:21 - INFO - ipylab save command executed successfully\n",
      "2025-06-21 00:15:21 - INFO - nbformat processing completed for 3 notebooks\n",
      "2025-06-21 00:15:22 - INFO - Jupyter save commands executed successfully\n",
      "2025-06-21 00:15:22 - INFO - All save methods completed\n",
      "2025-06-21 00:15:22 - INFO - Step 2: Determining next tag name\n",
      "2025-06-21 00:15:22 - INFO - Determining next tag name\n",
      "2025-06-21 00:15:22 - INFO - Fetching all tags from remote repositories\n",
      "2025-06-21 00:15:24 - INFO - Found 11 tags: ['v1.0.0', 'v1.1.0', 'v1.10.0', 'v1.2.0', 'v1.3.0', 'v1.4.0', 'v1.5.0', 'v1.6.0', 'v1.7.0', 'v1.8.0', 'v1.9.0']\n",
      "2025-06-21 00:15:24 - INFO - Latest tag: v1.10.0, next tag: v1.11.0\n",
      "2025-06-21 00:15:24 - INFO - Step 3: Committing with message: 'Project state after running experiment v1.11.0'\n",
      "2025-06-21 00:15:24 - INFO - Starting commit process with message: 'Project state after running experiment v1.11.0'\n",
      "2025-06-21 00:15:24 - INFO - Adding all files to staging area\n",
      "2025-06-21 00:15:24 - INFO - Starting process to add all files to git staging area\n",
      "2025-06-21 00:15:24 - INFO - Checking git status for all files\n",
      "2025-06-21 00:15:24 - INFO - Found 0 untracked files\n",
      "2025-06-21 00:15:24 - INFO - Found 0 modified files\n",
      "2025-06-21 00:15:24 - INFO - Found 0 deleted files\n",
      "2025-06-21 00:15:24 - INFO - No changes detected, but proceeding with add anyway\n",
      "2025-06-21 00:15:24 - INFO - Adding all files to git staging\n",
      "2025-06-21 00:15:24 - INFO - Successfully added all files to staging\n",
      "2025-06-21 00:15:24 - INFO - Checking for staged changes\n",
      "2025-06-21 00:15:24 - INFO - Staged 2 files for commit\n",
      "2025-06-21 00:15:24 - INFO - Creating commit with message: 'Project state after running experiment v1.11.0'\n",
      "2025-06-21 00:15:24 - INFO - Successfully committed: Project state after running experiment v1.11.0\n",
      "2025-06-21 00:15:24 - INFO - Step 4: Creating tag: v1.11.0\n",
      "2025-06-21 00:15:24 - INFO - Successfully created tag: v1.11.0\n",
      "2025-06-21 00:15:24 - INFO - Step 5: Pushing tag to remote: v1.11.0\n",
      "2025-06-21 00:15:25 - INFO - Successfully pushed tag: v1.11.0\n",
      "2025-06-21 00:15:25 - INFO - Successfully ended experiment: v1.11.0\n"
     ]
    },
    {
     "data": {
      "text/plain": [
       "'v1.11.0'"
      ]
     },
     "execution_count": 5,
     "metadata": {},
     "output_type": "execute_result"
    }
   ],
   "source": [
    "end_experiment()"
   ]
  },
  {
   "cell_type": "code",
   "execution_count": 6,
   "id": "09c8cae8-99e7-481f-92f3-650a57c46702",
   "metadata": {},
   "outputs": [
    {
     "data": {
      "text/plain": [
       "['v1.11.0',\n",
       " 'v1.10.0',\n",
       " 'v1.9.0',\n",
       " 'v1.8.0',\n",
       " 'v1.7.0',\n",
       " 'v1.6.0',\n",
       " 'v1.5.0',\n",
       " 'v1.4.0',\n",
       " 'v1.3.0',\n",
       " 'v1.2.0',\n",
       " 'v1.1.0',\n",
       " 'v1.0.0']"
      ]
     },
     "execution_count": 6,
     "metadata": {},
     "output_type": "execute_result"
    }
   ],
   "source": [
    "from reprolab.experiment import list_and_sort_git_tags\n",
    "list_and_sort_git_tags()\n",
    "# Pick your git tag, to download the reproducability package"
   ]
  },
  {
   "cell_type": "code",
   "execution_count": 8,
   "id": "6607075e-b495-4049-98c1-36e2eecf7ac7",
   "metadata": {},
   "outputs": [
    {
     "name": "stdout",
     "output_type": "stream",
     "text": [
      "[download_reproducability_package] 🚀 Starting reproducibility package creation for tag: v1.11.0\n",
      "[download_reproducability_package] 📋 Step 1: Checking out to git tag 'v1.11.0'\n",
      "No changes to commit before checkout.\n",
      "Checked out to tag 'v1.11.0' successfully.\n",
      "[download_reproducability_package] 📋 Step 2: Finding notebooks\n",
      "[download_reproducability_package] Found 3 notebooks: ['Untitled1.ipynb', 'Untitled.ipynb', 'demo.ipynb']\n",
      "[download_reproducability_package] 📋 Step 3: Creating code package\n",
      "[download_reproducability_package] Added to code package: Untitled1.ipynb\n",
      "[download_reproducability_package] Added to code package: LICENSE\n",
      "[download_reproducability_package] Added to code package: requirements.txt\n",
      "[download_reproducability_package] Added to code package: CHANGELOG.md\n",
      "[download_reproducability_package] Added to code package: demo.ipynb_persistio_archive.yaml\n",
      "[download_reproducability_package] Added to code package: Untitled.ipynb\n",
      "[download_reproducability_package] Added to code package: .yarnrc.yml\n",
      "[download_reproducability_package] Added to code package: demo.ipynb\n",
      "[download_reproducability_package] Added to code package: tsconfig.tsbuildinfo\n",
      "[download_reproducability_package] Added to code package: pyproject.toml\n",
      "[download_reproducability_package] Added to code package: .prettierignore\n",
      "[download_reproducability_package] Added to code package: README.md\n",
      "[download_reproducability_package] Added to code package: RELEASE.md\n",
      "[download_reproducability_package] Added to code package: yarn.lock\n",
      "[download_reproducability_package] Added to code package: books.csv\n",
      "[download_reproducability_package] Added to code package: .gitignore\n",
      "[download_reproducability_package] Added to code package: package-lock.json\n",
      "[download_reproducability_package] Added to code package: package.json\n",
      "[download_reproducability_package] Added to code package: tsconfig.json\n",
      "[download_reproducability_package] Added to code package: .copier-answers.yml\n",
      "[download_reproducability_package] Added to code package: reprolab_data/demo.md\n",
      "[download_reproducability_package] Added to code package: reprolab_data/aws_env.json\n",
      "[download_reproducability_package] Added to code package: reprolab_data/reproducibility_checklist.json\n",
      "[download_reproducability_package] Added to code package: reprolab_data/ca840447667cb2059aa83ed68ec9e995.DataFrame.parquet\n",
      "[download_reproducability_package] Added to code package: style/index.js\n",
      "[download_reproducability_package] Added to code package: style/index.css\n",
      "[download_reproducability_package] Added to code package: style/base.css\n",
      "[download_reproducability_package] Added to code package: reprolab/_version.py\n",
      "[download_reproducability_package] Added to code package: reprolab/__init__.py\n",
      "[download_reproducability_package] Added to code package: reprolab/utils.py\n",
      "[download_reproducability_package] Added to code package: reprolab/py.typed\n",
      "[download_reproducability_package] Added to code package: reprolab/labextension/build_log.json\n",
      "[download_reproducability_package] Added to code package: reprolab/labextension/package.json\n",
      "[download_reproducability_package] Added to code package: reprolab/labextension/static/lib_index_js.cae7966c41cd69e79fd7.js.map\n",
      "[download_reproducability_package] Added to code package: reprolab/labextension/static/lib_index_js.cae7966c41cd69e79fd7.js\n",
      "[download_reproducability_package] Added to code package: reprolab/labextension/static/style_index_js.7c999a9bfe93683ce9a3.js.map\n",
      "[download_reproducability_package] Added to code package: reprolab/labextension/static/style.js\n",
      "[download_reproducability_package] Added to code package: reprolab/labextension/static/remoteEntry.5693b98dd45c6c1bca8c.js.map\n",
      "[download_reproducability_package] Added to code package: reprolab/labextension/static/style_index_js.7c999a9bfe93683ce9a3.js\n",
      "[download_reproducability_package] Added to code package: reprolab/labextension/static/remoteEntry.5693b98dd45c6c1bca8c.js\n",
      "[download_reproducability_package] Added to code package: reprolab/environment/__init__.py\n",
      "[download_reproducability_package] Added to code package: reprolab/environment/environment.py\n",
      "[download_reproducability_package] Added to code package: reprolab/experiment/create_experiment.py\n",
      "[download_reproducability_package] Added to code package: reprolab/experiment/__init__.py\n",
      "[download_reproducability_package] Added to code package: reprolab/experiment/archive_file.py\n",
      "[download_reproducability_package] Added to code package: lib/index.js\n",
      "[download_reproducability_package] Added to code package: lib/utils.d.ts\n",
      "[download_reproducability_package] Added to code package: lib/index.js.map\n",
      "[download_reproducability_package] Added to code package: lib/utils.js\n",
      "[download_reproducability_package] Added to code package: lib/utils.js.map\n",
      "[download_reproducability_package] Added to code package: lib/index.d.ts\n",
      "[download_reproducability_package] Added to code package: lib/sections/metrics.d.ts\n",
      "[download_reproducability_package] Added to code package: lib/sections/demo.js.map\n",
      "[download_reproducability_package] Added to code package: lib/sections/archive.d.ts\n",
      "[download_reproducability_package] Added to code package: lib/sections/dependencies.d.ts\n",
      "[download_reproducability_package] Added to code package: lib/sections/zenodo.js\n",
      "[download_reproducability_package] Added to code package: lib/sections/demo.d.ts\n",
      "[download_reproducability_package] Added to code package: lib/sections/git-tags.js.map\n",
      "[download_reproducability_package] Added to code package: lib/sections/experiment.js.map\n",
      "[download_reproducability_package] Added to code package: lib/sections/metrics.js\n",
      "[download_reproducability_package] Added to code package: lib/sections/git-tags-test.d.ts\n",
      "[download_reproducability_package] Added to code package: lib/sections/zenodo.js.map\n",
      "[download_reproducability_package] Added to code package: lib/sections/archive.js.map\n",
      "[download_reproducability_package] Added to code package: lib/sections/checklist.js\n",
      "[download_reproducability_package] Added to code package: lib/sections/git-tags-test.js.map\n",
      "[download_reproducability_package] Added to code package: lib/sections/demo.js\n",
      "[download_reproducability_package] Added to code package: lib/sections/dependencies.js.map\n",
      "[download_reproducability_package] Added to code package: lib/sections/metrics.js.map\n",
      "[download_reproducability_package] Added to code package: lib/sections/experiment.d.ts\n",
      "[download_reproducability_package] Added to code package: lib/sections/dependencies.js\n",
      "[download_reproducability_package] Added to code package: lib/sections/git-tags.d.ts\n",
      "[download_reproducability_package] Added to code package: lib/sections/git-tags.js\n",
      "[download_reproducability_package] Added to code package: lib/sections/experiment.js\n",
      "[download_reproducability_package] Added to code package: lib/sections/zenodo.d.ts\n",
      "[download_reproducability_package] Added to code package: lib/sections/checklist.js.map\n",
      "[download_reproducability_package] Added to code package: lib/sections/git-tags-test.js\n",
      "[download_reproducability_package] Added to code package: lib/sections/environment.d.ts\n",
      "[download_reproducability_package] Added to code package: lib/sections/archive.js\n",
      "[download_reproducability_package] Added to code package: lib/sections/checklist.d.ts\n",
      "[download_reproducability_package] Added to code package: lib/sections/environment.js\n",
      "[download_reproducability_package] Added to code package: lib/sections/environment.js.map\n",
      "[download_reproducability_package] Added to code package: src/utils.ts\n",
      "[download_reproducability_package] Added to code package: src/index.ts\n",
      "[download_reproducability_package] Added to code package: src/sections/demo.ts\n",
      "[download_reproducability_package] Added to code package: src/sections/archive.ts\n",
      "[download_reproducability_package] Added to code package: src/sections/environment.ts\n",
      "[download_reproducability_package] Added to code package: src/sections/experiment.ts\n",
      "[download_reproducability_package] Added to code package: src/sections/zenodo.ts\n",
      "[download_reproducability_package] Added to code package: src/sections/checklist.ts\n",
      "[download_reproducability_package] ✅ Code package created: v1.11.0_code.zip\n",
      "[download_reproducability_package] 📋 Step 4: Creating data packages\n",
      "[download_notebook_cache_package] Found metadata file: demo.ipynb_persistio_archive.yaml\n",
      "[download_notebook_cache_package] Processing notebook: Untitled1\n",
      "[download_notebook_cache_package] Using metadata file: demo.ipynb_persistio_archive.yaml\n",
      "[download_notebook_cache_package] Found 1 cached functions\n",
      "[download_notebook_cache_package] Using cloud storage: viciooo-dvc-testing\n",
      "[download_notebook_cache_package] Copied local file: ca840447667cb2059aa83ed68ec9e995.DataFrame.parquet\n",
      "[download_notebook_cache_package] Creating zip package: v1.11.0_Untitled1_data.zip\n",
      "[download_notebook_cache_package] ✅ Successfully created package: v1.11.0_Untitled1_data.zip\n",
      "[download_notebook_cache_package] 📦 Package contains 1 cached files + metadata\n",
      "[download_reproducability_package] ✅ Data package created: v1.11.0_Untitled1_data.zip\n",
      "[download_notebook_cache_package] Found metadata file: demo.ipynb_persistio_archive.yaml\n",
      "[download_notebook_cache_package] Processing notebook: Untitled\n",
      "[download_notebook_cache_package] Using metadata file: demo.ipynb_persistio_archive.yaml\n",
      "[download_notebook_cache_package] Found 1 cached functions\n",
      "[download_notebook_cache_package] Using cloud storage: viciooo-dvc-testing\n",
      "[download_notebook_cache_package] Copied local file: ca840447667cb2059aa83ed68ec9e995.DataFrame.parquet\n",
      "[download_notebook_cache_package] Creating zip package: v1.11.0_Untitled_data.zip\n",
      "[download_notebook_cache_package] ✅ Successfully created package: v1.11.0_Untitled_data.zip\n",
      "[download_notebook_cache_package] 📦 Package contains 1 cached files + metadata\n",
      "[download_reproducability_package] ✅ Data package created: v1.11.0_Untitled_data.zip\n",
      "[download_notebook_cache_package] Found metadata file: demo.ipynb_persistio_archive.yaml\n",
      "[download_notebook_cache_package] Processing notebook: demo\n",
      "[download_notebook_cache_package] Using metadata file: demo.ipynb_persistio_archive.yaml\n",
      "[download_notebook_cache_package] Found 1 cached functions\n",
      "[download_notebook_cache_package] Using cloud storage: viciooo-dvc-testing\n",
      "[download_notebook_cache_package] Copied local file: ca840447667cb2059aa83ed68ec9e995.DataFrame.parquet\n",
      "[download_notebook_cache_package] Creating zip package: v1.11.0_demo_data.zip\n",
      "[download_notebook_cache_package] ✅ Successfully created package: v1.11.0_demo_data.zip\n",
      "[download_notebook_cache_package] 📦 Package contains 1 cached files + metadata\n",
      "[download_reproducability_package] ✅ Data package created: v1.11.0_demo_data.zip\n",
      "[download_reproducability_package] 📋 Step 5: Creating final reproducibility package\n",
      "[download_reproducability_package] Added to final package: code/v1.11.0_code.zip\n",
      "[download_reproducability_package] Added to final package: data/v1.11.0_Untitled1_data.zip\n",
      "[download_reproducability_package] Added to final package: data/v1.11.0_Untitled_data.zip\n",
      "[download_reproducability_package] Added to final package: data/v1.11.0_demo_data.zip\n",
      "[download_reproducability_package] Added to final package: README.md\n",
      "[download_reproducability_package] 🧹 Cleaning up intermediate files\n",
      "[download_reproducability_package] ✅ Intermediate files cleaned up\n",
      "[download_reproducability_package] 🎉 SUCCESS! Reproducibility package created: v1.11.0_reproducability_package.zip\n",
      "[download_reproducability_package] 📦 Package contains:\n",
      "   - Code package with 3 notebooks\n",
      "   - 3 data packages\n",
      "   - README with usage instructions\n",
      "[download_reproducability_package] 🔄 Checking out to main branch...\n",
      "Your branch is ahead of 'origin/main' by 21 commits.\n",
      "  (use \"git push\" to publish your local commits)\n",
      "[download_reproducability_package] ✅ Successfully checked out to main branch\n"
     ]
    },
    {
     "name": "stderr",
     "output_type": "stream",
     "text": [
      "Note: switching to 'v1.11.0'.\n",
      "\n",
      "You are in 'detached HEAD' state. You can look around, make experimental\n",
      "changes and commit them, and you can discard any commits you make in this\n",
      "state without impacting any branches by switching back to a branch.\n",
      "\n",
      "If you want to create a new branch to retain commits you create, you may\n",
      "do so (now or later) by using -c with the switch command. Example:\n",
      "\n",
      "  git switch -c <new-branch-name>\n",
      "\n",
      "Or undo this operation with:\n",
      "\n",
      "  git switch -\n",
      "\n",
      "Turn off this advice by setting config variable advice.detachedHead to false\n",
      "\n",
      "HEAD is now at e43f873 Project state after running experiment v1.11.0\n",
      "Switched to branch 'main'\n"
     ]
    },
    {
     "data": {
      "text/plain": [
       "'v1.11.0_reproducability_package.zip'"
      ]
     },
     "execution_count": 8,
     "metadata": {},
     "output_type": "execute_result"
    }
   ],
   "source": [
    "from reprolab.experiment import download_reproducability_package\n",
    "download_reproducability_package('v1.11.0')"
   ]
  }
 ],
 "metadata": {
  "kernelspec": {
   "display_name": "Python (.my_venv)",
   "language": "python",
   "name": ".my_venv_kernel"
  },
  "language_info": {
   "codemirror_mode": {
    "name": "ipython",
    "version": 3
   },
   "file_extension": ".py",
   "mimetype": "text/x-python",
   "name": "python",
   "nbconvert_exporter": "python",
   "pygments_lexer": "ipython3",
   "version": "3.12.7"
  }
 },
 "nbformat": 4,
 "nbformat_minor": 5
}
