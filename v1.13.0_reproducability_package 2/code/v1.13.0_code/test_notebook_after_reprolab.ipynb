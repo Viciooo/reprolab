{
 "cells": [
  {
   "cell_type": "code",
   "execution_count": 1,
   "id": "89b9502f-d29e-4b90-81e5-0e8e1b4e25eb",
   "metadata": {},
   "outputs": [
    {
     "name": "stderr",
     "output_type": "stream",
     "text": [
      "2025-07-09 23:08:24 - INFO - NumExpr defaulting to 8 threads.\n",
      "2025-07-09 23:08:24 - INFO - Starting experiment process\n",
      "2025-07-09 23:08:24 - INFO - Step 1: Saving all notebooks\n",
      "2025-07-09 23:08:24 - INFO - Attempting to save all Jupyter notebooks...\n",
      "2025-07-09 23:08:25 - INFO - ipylab save command executed successfully\n",
      "2025-07-09 23:08:25 - INFO - nbformat processing completed for 4 notebooks\n",
      "2025-07-09 23:08:25 - INFO - Jupyter save commands executed successfully\n",
      "2025-07-09 23:08:25 - INFO - All save methods completed\n",
      "2025-07-09 23:08:25 - INFO - Step 2: Determining next tag name\n",
      "2025-07-09 23:08:25 - INFO - Determining next tag name\n",
      "2025-07-09 23:08:25 - INFO - Fetching all tags from remote repositories\n",
      "2025-07-09 23:08:27 - INFO - Found 13 tags: ['v1.0.0', 'v1.1.0', 'v1.10.0', 'v1.11.0', 'v1.12.0', 'v1.2.0', 'v1.3.0', 'v1.4.0', 'v1.5.0', 'v1.6.0', 'v1.7.0', 'v1.8.0', 'v1.9.0']\n",
      "2025-07-09 23:08:27 - INFO - Latest tag: v1.12.0, next tag: v1.13.0\n",
      "2025-07-09 23:08:27 - INFO - Step 3: Committing with message: 'Project state before running experiment v1.13.0'\n",
      "2025-07-09 23:08:27 - INFO - Starting commit process with message: 'Project state before running experiment v1.13.0'\n",
      "2025-07-09 23:08:27 - INFO - Adding all files to staging area\n",
      "2025-07-09 23:08:27 - INFO - Starting process to add all files to git staging area\n",
      "2025-07-09 23:08:27 - INFO - Checking git status for all files\n",
      "2025-07-09 23:08:27 - INFO - Found 2 untracked files\n",
      "2025-07-09 23:08:27 - INFO - Found 0 modified files\n",
      "2025-07-09 23:08:27 - INFO - Found 0 deleted files\n",
      "2025-07-09 23:08:27 - INFO - Adding all files to git staging\n",
      "2025-07-09 23:08:27 - INFO - Successfully added all files to staging\n",
      "2025-07-09 23:08:27 - INFO - Checking for staged changes\n",
      "2025-07-09 23:08:27 - INFO - Staged 4 files for commit\n",
      "2025-07-09 23:08:27 - INFO - Creating commit with message: 'Project state before running experiment v1.13.0'\n",
      "2025-07-09 23:08:27 - INFO - Successfully committed: Project state before running experiment v1.13.0\n",
      "2025-07-09 23:08:27 - INFO - Successfully started experiment: v1.13.0\n"
     ]
    },
    {
     "data": {
      "text/plain": [
       "'v1.13.0'"
      ]
     },
     "execution_count": 1,
     "metadata": {},
     "output_type": "execute_result"
    }
   ],
   "source": [
    "from reprolab.experiment import start_experiment, end_experiment\n",
    "start_experiment()\n"
   ]
  },
  {
   "cell_type": "code",
   "execution_count": 2,
   "id": "0cb11300-04a0-4783-b732-97d85c388cc2",
   "metadata": {},
   "outputs": [
    {
     "name": "stdout",
     "output_type": "stream",
     "text": [
      "Requirement already satisfied: pandas in ./.my_venv/lib/python3.12/site-packages (2.3.0)\n",
      "Requirement already satisfied: numpy>=1.26.0 in ./.my_venv/lib/python3.12/site-packages (from pandas) (2.3.0)\n",
      "Requirement already satisfied: python-dateutil>=2.8.2 in ./.my_venv/lib/python3.12/site-packages (from pandas) (2.9.0.post0)\n",
      "Requirement already satisfied: pytz>=2020.1 in ./.my_venv/lib/python3.12/site-packages (from pandas) (2025.2)\n",
      "Requirement already satisfied: tzdata>=2022.7 in ./.my_venv/lib/python3.12/site-packages (from pandas) (2025.2)\n",
      "Requirement already satisfied: six>=1.5 in ./.my_venv/lib/python3.12/site-packages (from python-dateutil>=2.8.2->pandas) (1.17.0)\n",
      "\n",
      "[persistio] Function: load_csv_data\n",
      "[persistio] Hash: fd6c2a5e2f8bf4da3913aa47a8a83f5c\n",
      "✅ Metadata written to test_notebook_before_reprolab.ipynb_persistio_archive.yaml\n",
      "[persistio] Trigger logged for function: load_csv_data\n",
      "[persistio] Attempting to load from local cache...\n",
      "[persistio] Successfully loaded from local cache!\n",
      "Initial CSV data:\n",
      "                   title               author  publication_year\n",
      "0       The Great Gatsby  F. Scott Fitzgerald              1925\n",
      "1                   1984        George Orwell              1949\n",
      "2  To Kill a Mockingbird           Harper Lee              1960\n"
     ]
    }
   ],
   "source": [
    "# Cell 1: Loading CSV data from local file\n",
    "!pip install pandas\n",
    "import pandas as pd\n",
    "from reprolab.experiment import persistio\n",
    "\n",
    "@persistio()\n",
    "def load_csv_data():\n",
    "    return pd.read_csv('books.csv')\n",
    "\n",
    "books_csv = load_csv_data()\n",
    "print(\"Initial CSV data:\")\n",
    "print(books_csv.head())\n"
   ]
  },
  {
   "cell_type": "code",
   "execution_count": 3,
   "id": "5a6b18a4-ce37-43e3-9c73-76e3fc87ad9a",
   "metadata": {},
   "outputs": [],
   "source": [
    "# Cell 2: Setting API key\n",
    "\n",
    "@persistio()\n",
    "def get_openlibrary_api_key():\n",
    "    with open(\"OPENLIBRARY_API_KEY.txt\", \"r\") as file:\n",
    "        return file.read().strip()\n"
   ]
  },
  {
   "cell_type": "code",
   "execution_count": 4,
   "id": "91cc59d4-4968-49fb-a6ac-7fc4fbc59635",
   "metadata": {},
   "outputs": [
    {
     "name": "stdout",
     "output_type": "stream",
     "text": [
      "Requirement already satisfied: requests in ./.my_venv/lib/python3.12/site-packages (2.32.4)\n",
      "Requirement already satisfied: charset_normalizer<4,>=2 in ./.my_venv/lib/python3.12/site-packages (from requests) (3.4.2)\n",
      "Requirement already satisfied: idna<4,>=2.5 in ./.my_venv/lib/python3.12/site-packages (from requests) (3.10)\n",
      "Requirement already satisfied: urllib3<3,>=1.21.1 in ./.my_venv/lib/python3.12/site-packages (from requests) (2.5.0)\n",
      "Requirement already satisfied: certifi>=2017.4.17 in ./.my_venv/lib/python3.12/site-packages (from requests) (2025.6.15)\n",
      "\n",
      "[persistio] Function: get_book_details\n",
      "[persistio] Hash: 1f54eda134aa73d1934bf6b158e6fc44\n",
      "✅ Metadata written to test_notebook_before_reprolab.ipynb_persistio_archive.yaml\n",
      "[persistio] Trigger logged for function: get_book_details\n",
      "[persistio] Attempting to load from local cache...\n",
      "[persistio] Local cache miss\n",
      "[persistio] Attempting to load from cloud...\n",
      "[persistio] No matching file found in cloud\n",
      "[persistio] Cache miss - executing function...\n",
      "\n",
      "[persistio] Function: get_openlibrary_api_key\n",
      "[persistio] Hash: 2be4bf46f700cb8a2d6048886e0e6449\n",
      "✅ Metadata written to test_notebook_before_reprolab.ipynb_persistio_archive.yaml\n",
      "[persistio] Trigger logged for function: get_openlibrary_api_key\n",
      "[persistio] Attempting to load from local cache...\n",
      "[persistio] Local cache miss\n",
      "[persistio] Attempting to load from cloud...\n",
      "[persistio] No matching file found in cloud\n",
      "[persistio] Cache miss - executing function...\n",
      "[persistio] Result type str not supported for caching\n",
      "[persistio] Saving result of type dict to cache...\n",
      "Data saved compactly to reprolab_data/1f54eda134aa73d1934bf6b158e6fc44.dict.json.gz (121 bytes)\n",
      "[persistio] Successfully saved to local cache!\n",
      "[upload_to_cloud] Uploading reprolab_data/1f54eda134aa73d1934bf6b158e6fc44.dict.json.gz to s3://viciooo-dvc-testing/1f54eda134aa73d1934bf6b158e6fc44.dict.json.gz\n",
      "[upload_to_cloud] Successfully uploaded to s3://viciooo-dvc-testing/1f54eda134aa73d1934bf6b158e6fc44.dict.json.gz\n",
      "[persistio] Successfully saved to cloud!\n",
      "\n",
      "[persistio] Function: get_book_details\n",
      "[persistio] Hash: 2d3014cd4bbb3f3c4142fc1c7aefebde\n",
      "✅ Metadata written to test_notebook_before_reprolab.ipynb_persistio_archive.yaml\n",
      "[persistio] Trigger logged for function: get_book_details\n",
      "[persistio] Attempting to load from local cache...\n",
      "[persistio] Local cache miss\n",
      "[persistio] Attempting to load from cloud...\n",
      "[persistio] No matching file found in cloud\n",
      "[persistio] Cache miss - executing function...\n",
      "\n",
      "[persistio] Function: get_openlibrary_api_key\n",
      "[persistio] Hash: 2be4bf46f700cb8a2d6048886e0e6449\n",
      "✅ Metadata written to test_notebook_before_reprolab.ipynb_persistio_archive.yaml\n",
      "[persistio] Trigger logged for function: get_openlibrary_api_key\n",
      "[persistio] Attempting to load from local cache...\n",
      "[persistio] Local cache miss\n",
      "[persistio] Attempting to load from cloud...\n",
      "[persistio] No matching file found in cloud\n",
      "[persistio] Cache miss - executing function...\n",
      "[persistio] Result type str not supported for caching\n",
      "[persistio] Saving result of type dict to cache...\n",
      "Data saved compactly to reprolab_data/2d3014cd4bbb3f3c4142fc1c7aefebde.dict.json.gz (121 bytes)\n",
      "[persistio] Successfully saved to local cache!\n",
      "[upload_to_cloud] Uploading reprolab_data/2d3014cd4bbb3f3c4142fc1c7aefebde.dict.json.gz to s3://viciooo-dvc-testing/2d3014cd4bbb3f3c4142fc1c7aefebde.dict.json.gz\n",
      "[upload_to_cloud] Successfully uploaded to s3://viciooo-dvc-testing/2d3014cd4bbb3f3c4142fc1c7aefebde.dict.json.gz\n",
      "[persistio] Successfully saved to cloud!\n",
      "\n",
      "[persistio] Function: get_book_details\n",
      "[persistio] Hash: 014c29751c03f659e6a23df1c73ab5a5\n",
      "✅ Metadata written to test_notebook_before_reprolab.ipynb_persistio_archive.yaml\n",
      "[persistio] Trigger logged for function: get_book_details\n",
      "[persistio] Attempting to load from local cache...\n",
      "[persistio] Local cache miss\n",
      "[persistio] Attempting to load from cloud...\n",
      "[persistio] No matching file found in cloud\n",
      "[persistio] Cache miss - executing function...\n",
      "\n",
      "[persistio] Function: get_openlibrary_api_key\n",
      "[persistio] Hash: 2be4bf46f700cb8a2d6048886e0e6449\n",
      "✅ Metadata written to test_notebook_before_reprolab.ipynb_persistio_archive.yaml\n",
      "[persistio] Trigger logged for function: get_openlibrary_api_key\n",
      "[persistio] Attempting to load from local cache...\n",
      "[persistio] Local cache miss\n",
      "[persistio] Attempting to load from cloud...\n",
      "[persistio] No matching file found in cloud\n",
      "[persistio] Cache miss - executing function...\n",
      "[persistio] Result type str not supported for caching\n",
      "[persistio] Saving result of type dict to cache...\n",
      "Data saved compactly to reprolab_data/014c29751c03f659e6a23df1c73ab5a5.dict.json.gz (121 bytes)\n",
      "[persistio] Successfully saved to local cache!\n",
      "[upload_to_cloud] Uploading reprolab_data/014c29751c03f659e6a23df1c73ab5a5.dict.json.gz to s3://viciooo-dvc-testing/014c29751c03f659e6a23df1c73ab5a5.dict.json.gz\n",
      "[upload_to_cloud] Successfully uploaded to s3://viciooo-dvc-testing/014c29751c03f659e6a23df1c73ab5a5.dict.json.gz\n",
      "[persistio] Successfully saved to cloud!\n"
     ]
    },
    {
     "data": {
      "text/html": [
       "<div>\n",
       "<style scoped>\n",
       "    .dataframe tbody tr th:only-of-type {\n",
       "        vertical-align: middle;\n",
       "    }\n",
       "\n",
       "    .dataframe tbody tr th {\n",
       "        vertical-align: top;\n",
       "    }\n",
       "\n",
       "    .dataframe thead th {\n",
       "        text-align: right;\n",
       "    }\n",
       "</style>\n",
       "<table border=\"1\" class=\"dataframe\">\n",
       "  <thead>\n",
       "    <tr style=\"text-align: right;\">\n",
       "      <th></th>\n",
       "      <th>isbn</th>\n",
       "      <th>page_count</th>\n",
       "      <th>first_publish</th>\n",
       "    </tr>\n",
       "  </thead>\n",
       "  <tbody>\n",
       "    <tr>\n",
       "      <th>0</th>\n",
       "      <td>N/A</td>\n",
       "      <td>0</td>\n",
       "      <td>1920</td>\n",
       "    </tr>\n",
       "    <tr>\n",
       "      <th>1</th>\n",
       "      <td>N/A</td>\n",
       "      <td>0</td>\n",
       "      <td>2003</td>\n",
       "    </tr>\n",
       "    <tr>\n",
       "      <th>2</th>\n",
       "      <td>N/A</td>\n",
       "      <td>0</td>\n",
       "      <td>1960</td>\n",
       "    </tr>\n",
       "  </tbody>\n",
       "</table>\n",
       "</div>"
      ],
      "text/plain": [
       "  isbn  page_count  first_publish\n",
       "0  N/A           0           1920\n",
       "1  N/A           0           2003\n",
       "2  N/A           0           1960"
      ]
     },
     "execution_count": 4,
     "metadata": {},
     "output_type": "execute_result"
    }
   ],
   "source": [
    "# Cell 3: Getting API data\n",
    "!pip install requests\n",
    "import requests\n",
    "import pandas as pd\n",
    "import os\n",
    "\n",
    "@persistio()\n",
    "def get_book_details(title):\n",
    "    OPENLIBRARY_API_KEY = get_openlibrary_api_key()\n",
    "    \n",
    "    url = f\"https://openlibrary.org/search.json?title={title}&apikey={OPENLIBRARY_API_KEY}\"\n",
    "    response = requests.get(url)\n",
    "    if response.status_code == 200:\n",
    "        data = response.json()\n",
    "        if data['docs']:\n",
    "            book = data['docs'][0]\n",
    "            return {\n",
    "                'isbn': book.get('isbn', ['N/A'])[0],\n",
    "                'page_count': book.get('number_of_pages_median', 0),\n",
    "                'first_publish': book.get('first_publish_year', None)\n",
    "            }\n",
    "    return {'isbn': 'N/A', 'page_count': 0, 'first_publish': None}\n",
    "\n",
    "api_data = books_csv['title'].apply(get_book_details)\n",
    "api_df = pd.DataFrame(api_data.tolist())\n",
    "api_df\n"
   ]
  },
  {
   "cell_type": "code",
   "execution_count": 5,
   "id": "c9e34fbe-af7d-426a-8d61-cb33c2df7eed",
   "metadata": {},
   "outputs": [
    {
     "data": {
      "text/html": [
       "<div>\n",
       "<style scoped>\n",
       "    .dataframe tbody tr th:only-of-type {\n",
       "        vertical-align: middle;\n",
       "    }\n",
       "\n",
       "    .dataframe tbody tr th {\n",
       "        vertical-align: top;\n",
       "    }\n",
       "\n",
       "    .dataframe thead th {\n",
       "        text-align: right;\n",
       "    }\n",
       "</style>\n",
       "<table border=\"1\" class=\"dataframe\">\n",
       "  <thead>\n",
       "    <tr style=\"text-align: right;\">\n",
       "      <th></th>\n",
       "      <th>title</th>\n",
       "      <th>genre</th>\n",
       "      <th>rating</th>\n",
       "      <th>price</th>\n",
       "    </tr>\n",
       "  </thead>\n",
       "  <tbody>\n",
       "    <tr>\n",
       "      <th>0</th>\n",
       "      <td>The Great Gatsby</td>\n",
       "      <td>Fiction</td>\n",
       "      <td>4.5</td>\n",
       "      <td>12.99</td>\n",
       "    </tr>\n",
       "    <tr>\n",
       "      <th>1</th>\n",
       "      <td>1984</td>\n",
       "      <td>Dystopian</td>\n",
       "      <td>4.8</td>\n",
       "      <td>15.99</td>\n",
       "    </tr>\n",
       "    <tr>\n",
       "      <th>2</th>\n",
       "      <td>To Kill a Mockingbird</td>\n",
       "      <td>Literary Fiction</td>\n",
       "      <td>4.7</td>\n",
       "      <td>14.99</td>\n",
       "    </tr>\n",
       "  </tbody>\n",
       "</table>\n",
       "</div>"
      ],
      "text/plain": [
       "                   title             genre  rating  price\n",
       "0       The Great Gatsby           Fiction     4.5  12.99\n",
       "1                   1984         Dystopian     4.8  15.99\n",
       "2  To Kill a Mockingbird  Literary Fiction     4.7  14.99"
      ]
     },
     "execution_count": 5,
     "metadata": {},
     "output_type": "execute_result"
    }
   ],
   "source": [
    "# Cell 4: Create and track dictionary data\n",
    "book_categories = {\n",
    "    \"The Great Gatsby\": {\"genre\": \"Fiction\", \"rating\": 4.5, \"price\": 12.99},\n",
    "    \"1984\": {\"genre\": \"Dystopian\", \"rating\": 4.8, \"price\": 15.99},\n",
    "    \"To Kill a Mockingbird\": {\"genre\": \"Literary Fiction\", \"rating\": 4.7, \"price\": 14.99}\n",
    "}\n",
    "\n",
    "category_df = pd.DataFrame.from_dict(book_categories, orient='index')\n",
    "category_df.index.name = 'title'\n",
    "category_df = category_df.reset_index()\n",
    "category_df\n"
   ]
  },
  {
   "cell_type": "code",
   "execution_count": 6,
   "id": "a735c8c5-60c7-4a30-b6e5-98c9e6ac1854",
   "metadata": {},
   "outputs": [],
   "source": [
    "# Cell 5: Combine datasets and perform transformations\n",
    "from datetime import datetime\n",
    "\n",
    "combined_df = pd.concat([books_csv, api_df], axis=1)\n",
    "final_df = pd.merge(combined_df, category_df, on='title', how='left')\n",
    "\n",
    "current_year = datetime.now().year\n",
    "final_df['book_age'] = current_year - final_df['publication_year']\n",
    "final_df['price_per_page'] = final_df['price'] / final_df['page_count'].replace(0, 1)\n",
    "\n",
    "def rating_category(rating):\n",
    "    if rating >= 4.5:\n",
    "        return 'Excellent'\n",
    "    elif rating >= 4.0:\n",
    "        return 'Good'\n",
    "    else:\n",
    "        return 'Average'\n",
    "\n",
    "final_df['rating_category'] = final_df['rating'].apply(rating_category)\n"
   ]
  },
  {
   "cell_type": "code",
   "execution_count": 7,
   "id": "464ff23b-c8f9-43d1-a8e7-13ed773150cf",
   "metadata": {},
   "outputs": [
    {
     "name": "stdout",
     "output_type": "stream",
     "text": [
      "Collecting matplotlib\n",
      "  Using cached matplotlib-3.10.3-cp312-cp312-macosx_11_0_arm64.whl.metadata (11 kB)\n",
      "Collecting contourpy>=1.0.1 (from matplotlib)\n",
      "  Using cached contourpy-1.3.2-cp312-cp312-macosx_11_0_arm64.whl.metadata (5.5 kB)\n",
      "Collecting cycler>=0.10 (from matplotlib)\n",
      "  Using cached cycler-0.12.1-py3-none-any.whl.metadata (3.8 kB)\n",
      "Collecting fonttools>=4.22.0 (from matplotlib)\n",
      "  Downloading fonttools-4.58.5-cp312-cp312-macosx_10_13_universal2.whl.metadata (106 kB)\n",
      "Collecting kiwisolver>=1.3.1 (from matplotlib)\n",
      "  Using cached kiwisolver-1.4.8-cp312-cp312-macosx_11_0_arm64.whl.metadata (6.2 kB)\n",
      "Requirement already satisfied: numpy>=1.23 in ./.my_venv/lib/python3.12/site-packages (from matplotlib) (2.3.0)\n",
      "Requirement already satisfied: packaging>=20.0 in ./.my_venv/lib/python3.12/site-packages (from matplotlib) (25.0)\n",
      "Collecting pillow>=8 (from matplotlib)\n",
      "  Downloading pillow-11.3.0-cp312-cp312-macosx_11_0_arm64.whl.metadata (9.0 kB)\n",
      "Collecting pyparsing>=2.3.1 (from matplotlib)\n",
      "  Using cached pyparsing-3.2.3-py3-none-any.whl.metadata (5.0 kB)\n",
      "Requirement already satisfied: python-dateutil>=2.7 in ./.my_venv/lib/python3.12/site-packages (from matplotlib) (2.9.0.post0)\n",
      "Requirement already satisfied: six>=1.5 in ./.my_venv/lib/python3.12/site-packages (from python-dateutil>=2.7->matplotlib) (1.17.0)\n",
      "Using cached matplotlib-3.10.3-cp312-cp312-macosx_11_0_arm64.whl (8.1 MB)\n",
      "Using cached contourpy-1.3.2-cp312-cp312-macosx_11_0_arm64.whl (255 kB)\n",
      "Using cached cycler-0.12.1-py3-none-any.whl (8.3 kB)\n",
      "Downloading fonttools-4.58.5-cp312-cp312-macosx_10_13_universal2.whl (2.8 MB)\n",
      "\u001b[2K   \u001b[38;2;114;156;31m━━━━━━━━━━━━━━━━━━━━━━━━━━━━━━━━━━━━━━━━\u001b[0m \u001b[32m2.8/2.8 MB\u001b[0m \u001b[31m14.5 MB/s\u001b[0m eta \u001b[36m0:00:00\u001b[0m MB/s\u001b[0m eta \u001b[36m0:00:01\u001b[0m\n",
      "\u001b[?25hUsing cached kiwisolver-1.4.8-cp312-cp312-macosx_11_0_arm64.whl (65 kB)\n",
      "Downloading pillow-11.3.0-cp312-cp312-macosx_11_0_arm64.whl (4.7 MB)\n",
      "\u001b[2K   \u001b[38;2;114;156;31m━━━━━━━━━━━━━━━━━━━━━━━━━━━━━━━━━━━━━━━━\u001b[0m \u001b[32m4.7/4.7 MB\u001b[0m \u001b[31m28.2 MB/s\u001b[0m eta \u001b[36m0:00:00\u001b[0m\n",
      "\u001b[?25hUsing cached pyparsing-3.2.3-py3-none-any.whl (111 kB)\n",
      "Installing collected packages: pyparsing, pillow, kiwisolver, fonttools, cycler, contourpy, matplotlib\n",
      "\u001b[2K   \u001b[38;2;114;156;31m━━━━━━━━━━━━━━━━━━━━━━━━━━━━━━━━━━━━━━━━\u001b[0m \u001b[32m7/7\u001b[0m [matplotlib]\u001b[0m \u001b[32m6/7\u001b[0m [matplotlib]ow]\n",
      "\u001b[1A\u001b[2KSuccessfully installed contourpy-1.3.2 cycler-0.12.1 fonttools-4.58.5 kiwisolver-1.4.8 matplotlib-3.10.3 pillow-11.3.0 pyparsing-3.2.3\n"
     ]
    },
    {
     "data": {
      "text/plain": [
       "<Figure size 1000x600 with 0 Axes>"
      ]
     },
     "metadata": {},
     "output_type": "display_data"
    },
    {
     "data": {
      "image/png": "[encoded data removed]",
      "text/plain": [
       "<Figure size 640x480 with 1 Axes>"
      ]
     },
     "metadata": {},
     "output_type": "display_data"
    }
   ],
   "source": [
    "# Cell 6: Visualize results\n",
    "genre_summary = final_df.groupby('genre').agg({\n",
    "    'rating': 'mean',\n",
    "    'price': 'mean',\n",
    "    'page_count': 'mean'\n",
    "}).round(2)\n",
    "!pip install matplotlib\n",
    "import matplotlib.pyplot as plt\n",
    "\n",
    "plt.figure(figsize=(10, 6))\n",
    "final_df.plot(kind='scatter', x='book_age', y='price', s=final_df['rating']*100, alpha=0.5)\n",
    "plt.title('Book Age vs Price (size = rating)')\n",
    "plt.xlabel('Book Age (years)')\n",
    "plt.ylabel('Price ($)')\n",
    "plt.savefig(\"scatter_plot.png\")\n",
    "plt.show()\n"
   ]
  },
  {
   "cell_type": "code",
   "execution_count": 8,
   "id": "37c8c99a-96bf-4970-93e9-46d0f1b00b12",
   "metadata": {},
   "outputs": [
    {
     "name": "stdout",
     "output_type": "stream",
     "text": [
      "Trying pip at: /Users/spoton/Documents/master_thesis/poc/reprolab/.my_venv/bin/pip\n",
      "Running command: /Users/spoton/Documents/master_thesis/poc/reprolab/.my_venv/bin/pip freeze\n",
      "Pip dependencies saved to requirements.txt\n",
      "Found 65 packages\n",
      "Not a Conda environment or not activated. Skipping Conda export.\n",
      "\n",
      "To recreate the environment:\n",
      "- For pip: Activate the virtual environment and run: `pip install -r requirements.txt`\n"
     ]
    }
   ],
   "source": [
    "from reprolab.environment import freeze_venv_dependencies\n",
    "freeze_venv_dependencies('.my_venv')\n"
   ]
  },
  {
   "cell_type": "code",
   "execution_count": null,
   "id": "90985974-ab5e-454f-904c-53f88fbe8b47",
   "metadata": {},
   "outputs": [
    {
     "name": "stderr",
     "output_type": "stream",
     "text": [
      "2025-07-09 23:08:44 - INFO - Ending experiment process\n",
      "2025-07-09 23:08:44 - INFO - Step 1: Saving all notebooks\n",
      "2025-07-09 23:08:44 - INFO - Attempting to save all Jupyter notebooks...\n",
      "2025-07-09 23:08:45 - INFO - ipylab save command executed successfully\n",
      "2025-07-09 23:08:45 - INFO - nbformat processing completed for 4 notebooks\n"
     ]
    }
   ],
   "source": [
    "end_experiment()\n"
   ]
  },
  {
   "cell_type": "code",
   "execution_count": null,
   "id": "68d0b8ca-c854-4235-9979-a1edef486dc6",
   "metadata": {},
   "outputs": [],
   "source": [
    "from reprolab.experiment import list_and_sort_git_tags\n",
    "list_and_sort_git_tags()\n",
    "# Pick your git tag, to download the reproducability package"
   ]
  },
  {
   "cell_type": "code",
   "execution_count": null,
   "id": "037bae0c-8114-4f1a-bd21-494881698be1",
   "metadata": {},
   "outputs": [],
   "source": [
    "from reprolab.experiment import download_reproducability_package\n",
    "download_reproducability_package('v1.13.0')"
   ]
  },
  {
   "cell_type": "code",
   "execution_count": null,
   "id": "3873f2c8-a46e-4881-95de-657e5b2cc163",
   "metadata": {},
   "outputs": [],
   "source": []
  }
 ],
 "metadata": {
  "kernelspec": {
   "display_name": "Python 3 (ipykernel)",
   "language": "python",
   "name": "python3"
  },
  "language_info": {
   "codemirror_mode": {
    "name": "ipython",
    "version": 3
   },
   "file_extension": ".py",
   "mimetype": "text/x-python",
   "name": "python",
   "nbconvert_exporter": "python",
   "pygments_lexer": "ipython3",
   "version": "3.12.7"
  }
 },
 "nbformat": 4,
 "nbformat_minor": 5
}
