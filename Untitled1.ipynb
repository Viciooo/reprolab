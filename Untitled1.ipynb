{
 "cells": [
  {
   "cell_type": "code",
   "execution_count": 2,
   "id": "fdf526a4-a82e-4bd0-beb3-8c05ba9990fc",
   "metadata": {},
   "outputs": [
    {
     "name": "stderr",
     "output_type": "stream",
     "text": [
      "2025-06-22 23:56:35 - INFO - Starting experiment process\n",
      "2025-06-22 23:56:35 - INFO - Step 1: Saving all notebooks\n",
      "2025-06-22 23:56:35 - INFO - Attempting to save all Jupyter notebooks...\n",
      "2025-06-22 23:56:35 - INFO - ipylab save command executed successfully\n",
      "2025-06-22 23:56:35 - INFO - nbformat processing completed for 4 notebooks\n",
      "2025-06-22 23:56:36 - INFO - Jupyter save commands executed successfully\n",
      "2025-06-22 23:56:36 - INFO - All save methods completed\n",
      "2025-06-22 23:56:36 - INFO - Step 2: Determining next tag name\n",
      "2025-06-22 23:56:36 - INFO - Determining next tag name\n",
      "2025-06-22 23:56:36 - INFO - Fetching all tags from remote repositories\n",
      "2025-06-22 23:56:38 - INFO - Found 12 tags: ['v1.0.0', 'v1.1.0', 'v1.10.0', 'v1.11.0', 'v1.2.0', 'v1.3.0', 'v1.4.0', 'v1.5.0', 'v1.6.0', 'v1.7.0', 'v1.8.0', 'v1.9.0']\n",
      "2025-06-22 23:56:38 - INFO - Latest tag: v1.11.0, next tag: v1.12.0\n",
      "2025-06-22 23:56:38 - INFO - Step 3: Committing with message: 'Project state before running experiment v1.12.0'\n",
      "2025-06-22 23:56:38 - INFO - Starting commit process with message: 'Project state before running experiment v1.12.0'\n",
      "2025-06-22 23:56:38 - INFO - Adding all files to staging area\n",
      "2025-06-22 23:56:38 - INFO - Starting process to add all files to git staging area\n",
      "2025-06-22 23:56:38 - INFO - Checking git status for all files\n",
      "2025-06-22 23:56:38 - INFO - Found 4 untracked files\n",
      "2025-06-22 23:56:38 - INFO - Found 0 modified files\n",
      "2025-06-22 23:56:38 - INFO - Found 0 deleted files\n",
      "2025-06-22 23:56:38 - INFO - Adding all files to git staging\n",
      "2025-06-22 23:56:38 - INFO - Successfully added all files to staging\n",
      "2025-06-22 23:56:38 - INFO - Checking for staged changes\n",
      "2025-06-22 23:56:38 - INFO - Staged 7 files for commit\n",
      "2025-06-22 23:56:38 - INFO - Creating commit with message: 'Project state before running experiment v1.12.0'\n",
      "2025-06-22 23:56:38 - INFO - Successfully committed: Project state before running experiment v1.12.0\n",
      "2025-06-22 23:56:38 - INFO - Successfully started experiment: v1.12.0\n"
     ]
    },
    {
     "data": {
      "text/plain": [
       "'v1.12.0'"
      ]
     },
     "execution_count": 2,
     "metadata": {},
     "output_type": "execute_result"
    }
   ],
   "source": [
    "from reprolab.experiment import start_experiment, end_experiment\n",
    "start_experiment()"
   ]
  },
  {
   "cell_type": "code",
   "execution_count": 3,
   "id": "145e3bbc-f877-4b4b-b5ca-c2691c6edf22",
   "metadata": {},
   "outputs": [
    {
     "name": "stdout",
     "output_type": "stream",
     "text": [
      "[✔] Virtual environment '.my_venv' created at /Users/spoton/Documents/master_thesis/poc/reprolab/.my_venv\n",
      "Requirement already satisfied: pip in ./.my_venv/lib/python3.12/site-packages (25.1.1)\n",
      "[✔] Pip upgraded\n",
      "Requirement already satisfied: ipykernel in ./.my_venv/lib/python3.12/site-packages (6.29.5)\n",
      "Requirement already satisfied: boto3 in ./.my_venv/lib/python3.12/site-packages (1.38.41)\n",
      "Requirement already satisfied: ipylab in ./.my_venv/lib/python3.12/site-packages (1.0.0)\n",
      "Requirement already satisfied: pandas in ./.my_venv/lib/python3.12/site-packages (2.3.0)\n",
      "Requirement already satisfied: numpy in ./.my_venv/lib/python3.12/site-packages (2.3.0)\n",
      "Requirement already satisfied: xarray in ./.my_venv/lib/python3.12/site-packages (2025.6.1)\n",
      "Requirement already satisfied: requests in ./.my_venv/lib/python3.12/site-packages (2.32.4)\n",
      "Requirement already satisfied: pyarrow in ./.my_venv/lib/python3.12/site-packages (20.0.0)\n",
      "Requirement already satisfied: nbformat in ./.my_venv/lib/python3.12/site-packages (5.10.4)\n",
      "Requirement already satisfied: pyyaml in ./.my_venv/lib/python3.12/site-packages (6.0.2)\n",
      "Requirement already satisfied: ipywidgets in ./.my_venv/lib/python3.12/site-packages (8.1.7)\n",
      "Requirement already satisfied: jupyterlab_widgets in ./.my_venv/lib/python3.12/site-packages (3.0.15)\n",
      "Requirement already satisfied: appnope in ./.my_venv/lib/python3.12/site-packages (from ipykernel) (0.1.4)\n",
      "Requirement already satisfied: comm>=0.1.1 in ./.my_venv/lib/python3.12/site-packages (from ipykernel) (0.2.2)\n",
      "Requirement already satisfied: debugpy>=1.6.5 in ./.my_venv/lib/python3.12/site-packages (from ipykernel) (1.8.14)\n",
      "Requirement already satisfied: ipython>=7.23.1 in ./.my_venv/lib/python3.12/site-packages (from ipykernel) (9.3.0)\n",
      "Requirement already satisfied: jupyter-client>=6.1.12 in ./.my_venv/lib/python3.12/site-packages (from ipykernel) (8.6.3)\n",
      "Requirement already satisfied: jupyter-core!=5.0.*,>=4.12 in ./.my_venv/lib/python3.12/site-packages (from ipykernel) (5.8.1)\n",
      "Requirement already satisfied: matplotlib-inline>=0.1 in ./.my_venv/lib/python3.12/site-packages (from ipykernel) (0.1.7)\n",
      "Requirement already satisfied: nest-asyncio in ./.my_venv/lib/python3.12/site-packages (from ipykernel) (1.6.0)\n",
      "Requirement already satisfied: packaging in ./.my_venv/lib/python3.12/site-packages (from ipykernel) (25.0)\n",
      "Requirement already satisfied: psutil in ./.my_venv/lib/python3.12/site-packages (from ipykernel) (7.0.0)\n",
      "Requirement already satisfied: pyzmq>=24 in ./.my_venv/lib/python3.12/site-packages (from ipykernel) (27.0.0)\n",
      "Requirement already satisfied: tornado>=6.1 in ./.my_venv/lib/python3.12/site-packages (from ipykernel) (6.5.1)\n",
      "Requirement already satisfied: traitlets>=5.4.0 in ./.my_venv/lib/python3.12/site-packages (from ipykernel) (5.14.3)\n",
      "Requirement already satisfied: botocore<1.39.0,>=1.38.41 in ./.my_venv/lib/python3.12/site-packages (from boto3) (1.38.41)\n",
      "Requirement already satisfied: jmespath<2.0.0,>=0.7.1 in ./.my_venv/lib/python3.12/site-packages (from boto3) (1.0.1)\n",
      "Requirement already satisfied: s3transfer<0.14.0,>=0.13.0 in ./.my_venv/lib/python3.12/site-packages (from boto3) (0.13.0)\n",
      "Requirement already satisfied: python-dateutil<3.0.0,>=2.1 in ./.my_venv/lib/python3.12/site-packages (from botocore<1.39.0,>=1.38.41->boto3) (2.9.0.post0)\n",
      "Requirement already satisfied: urllib3!=2.2.0,<3,>=1.25.4 in ./.my_venv/lib/python3.12/site-packages (from botocore<1.39.0,>=1.38.41->boto3) (2.5.0)\n",
      "Requirement already satisfied: six>=1.5 in ./.my_venv/lib/python3.12/site-packages (from python-dateutil<3.0.0,>=2.1->botocore<1.39.0,>=1.38.41->boto3) (1.17.0)\n",
      "Requirement already satisfied: widgetsnbextension~=4.0.14 in ./.my_venv/lib/python3.12/site-packages (from ipywidgets) (4.0.14)\n",
      "Requirement already satisfied: pytz>=2020.1 in ./.my_venv/lib/python3.12/site-packages (from pandas) (2025.2)\n",
      "Requirement already satisfied: tzdata>=2022.7 in ./.my_venv/lib/python3.12/site-packages (from pandas) (2025.2)\n",
      "Requirement already satisfied: charset_normalizer<4,>=2 in ./.my_venv/lib/python3.12/site-packages (from requests) (3.4.2)\n",
      "Requirement already satisfied: idna<4,>=2.5 in ./.my_venv/lib/python3.12/site-packages (from requests) (3.10)\n",
      "Requirement already satisfied: certifi>=2017.4.17 in ./.my_venv/lib/python3.12/site-packages (from requests) (2025.6.15)\n",
      "Requirement already satisfied: fastjsonschema>=2.15 in ./.my_venv/lib/python3.12/site-packages (from nbformat) (2.21.1)\n",
      "Requirement already satisfied: jsonschema>=2.6 in ./.my_venv/lib/python3.12/site-packages (from nbformat) (4.24.0)\n",
      "Requirement already satisfied: decorator in ./.my_venv/lib/python3.12/site-packages (from ipython>=7.23.1->ipykernel) (5.2.1)\n",
      "Requirement already satisfied: ipython-pygments-lexers in ./.my_venv/lib/python3.12/site-packages (from ipython>=7.23.1->ipykernel) (1.1.1)\n",
      "Requirement already satisfied: jedi>=0.16 in ./.my_venv/lib/python3.12/site-packages (from ipython>=7.23.1->ipykernel) (0.19.2)\n",
      "Requirement already satisfied: pexpect>4.3 in ./.my_venv/lib/python3.12/site-packages (from ipython>=7.23.1->ipykernel) (4.9.0)\n",
      "Requirement already satisfied: prompt_toolkit<3.1.0,>=3.0.41 in ./.my_venv/lib/python3.12/site-packages (from ipython>=7.23.1->ipykernel) (3.0.51)\n",
      "Requirement already satisfied: pygments>=2.4.0 in ./.my_venv/lib/python3.12/site-packages (from ipython>=7.23.1->ipykernel) (2.19.1)\n",
      "Requirement already satisfied: stack_data in ./.my_venv/lib/python3.12/site-packages (from ipython>=7.23.1->ipykernel) (0.6.3)\n",
      "Requirement already satisfied: wcwidth in ./.my_venv/lib/python3.12/site-packages (from prompt_toolkit<3.1.0,>=3.0.41->ipython>=7.23.1->ipykernel) (0.2.13)\n",
      "Requirement already satisfied: parso<0.9.0,>=0.8.4 in ./.my_venv/lib/python3.12/site-packages (from jedi>=0.16->ipython>=7.23.1->ipykernel) (0.8.4)\n",
      "Requirement already satisfied: attrs>=22.2.0 in ./.my_venv/lib/python3.12/site-packages (from jsonschema>=2.6->nbformat) (25.3.0)\n",
      "Requirement already satisfied: jsonschema-specifications>=2023.03.6 in ./.my_venv/lib/python3.12/site-packages (from jsonschema>=2.6->nbformat) (2025.4.1)\n",
      "Requirement already satisfied: referencing>=0.28.4 in ./.my_venv/lib/python3.12/site-packages (from jsonschema>=2.6->nbformat) (0.36.2)\n",
      "Requirement already satisfied: rpds-py>=0.7.1 in ./.my_venv/lib/python3.12/site-packages (from jsonschema>=2.6->nbformat) (0.25.1)\n",
      "Requirement already satisfied: platformdirs>=2.5 in ./.my_venv/lib/python3.12/site-packages (from jupyter-core!=5.0.*,>=4.12->ipykernel) (4.3.8)\n",
      "Requirement already satisfied: ptyprocess>=0.5 in ./.my_venv/lib/python3.12/site-packages (from pexpect>4.3->ipython>=7.23.1->ipykernel) (0.7.0)\n",
      "Requirement already satisfied: typing-extensions>=4.4.0 in ./.my_venv/lib/python3.12/site-packages (from referencing>=0.28.4->jsonschema>=2.6->nbformat) (4.14.0)\n",
      "Requirement already satisfied: executing>=1.2.0 in ./.my_venv/lib/python3.12/site-packages (from stack_data->ipython>=7.23.1->ipykernel) (2.2.0)\n",
      "Requirement already satisfied: asttokens>=2.1.0 in ./.my_venv/lib/python3.12/site-packages (from stack_data->ipython>=7.23.1->ipykernel) (3.0.0)\n",
      "Requirement already satisfied: pure-eval in ./.my_venv/lib/python3.12/site-packages (from stack_data->ipython>=7.23.1->ipykernel) (0.2.3)\n",
      "[✔] Installed essential packages: ipykernel, boto3, ipylab, pandas, numpy, xarray, requests, pyarrow, nbformat, pyyaml, ipywidgets, jupyterlab_widgets\n",
      "Installed kernelspec .my_venv_kernel in /Users/spoton/Library/Jupyter/kernels/.my_venv_kernel\n",
      "[✔] Kernel '.my_venv_kernel' registered for Jupyter\n",
      "\n",
      "🎉 Setup complete!\n",
      "➡ To use the virtual environment in Jupyter:\n",
      "   1. Restart your Jupyter server\n",
      "   2. Select kernel: Python (.my_venv)\n"
     ]
    }
   ],
   "source": [
    "from reprolab.environment import create_new_venv\n",
    "create_new_venv('.my_venv')"
   ]
  },
  {
   "cell_type": "markdown",
   "id": "eec23df0-f3b1-4cdc-9d4e-d4ae2fd6db7c",
   "metadata": {},
   "source": [
    "# ReproLab Demo\n",
    "\n",
    "Welcome to ReproLab! This extension helps you make your research more reproducible.\n",
    "\n",
    "## Features\n",
    "\n",
    "- **Create Experiments**: Automatically save immutable snapshots of your code under `git` tags to preserve the **exact code and outputs**\n",
    "- **Manage Dependencies**: Automatically gather and pin **exact package versions**, so that others can set up your environment with one command\n",
    "- **Cache Data**: Call external API/load manually dataset only once, caching function will handle the rest\n",
    "- **Archive Data**: Caching function can also preserve the compressed data in *AWS S3*, so you always know what data was used and reduce the API calls\n",
    "- **Publishing guide**: The reproducibility checklist & automated generation of reproducability package make publishing to platforms such as Zenodo very easy\n",
    "\n",
    "## Getting Started\n",
    "\n",
    "1. Use the sidebar to view ReproLab features\n",
    "2. Create virtual environment and pin your dependencies, go to reprolab section `Create reproducible environment` \n",
    "3. Create an experiment to save your current state, go to reprolab section `Create experiment`\n",
    "4. Archive your data for long-term storage, go to reprolab section `Demo` and play around with it.\n",
    "5. Publish your work when ready, remember to use reproducability checklist from the section `Reproducibility Checklist`\n",
    "\n",
    "## Example Usage of persistio decorator\n",
    "\n",
    "To cache and archive the datasets you use, both from local files and APIs we developed a simple decorator that put over your function that gets the datasets caches the file both locally and in the cloud so that the dataset you use is archived and the number of calls to external APIs is minimal and you don't need to keep the file around after you run it once.\n",
    "\n",
    "Here is an example using one of NASA open APIs. If you want to test it out yourself, you can copy the code, but you need to provide bucket name and access and secret key in the left-hand panel using the `AWS S3 Configuration` section.\n",
    "\n",
    "```python\n",
    "import requests\n",
    "import pandas as pd\n",
    "from io import StringIO\n",
    "\n",
    "# The two lines below is all that you need to add\n",
    "from reprolab.experiment import persistio\n",
    "@persistio()\n",
    "def get_exoplanets_data_from_nasa():\n",
    "    url = \"https://exoplanetarchive.ipac.caltech.edu/TAP/sync\"\n",
    "\n",
    "    query = \"\"\"\n",
    "    SELECT TOP 10\n",
    "        pl_name AS planet_name,\n",
    "        hostname AS host_star,\n",
    "        pl_orbper AS orbital_period_days,\n",
    "        pl_rade AS planet_radius_earth,\n",
    "        disc_year AS discovery_year\n",
    "    FROM\n",
    "        ps\n",
    "    WHERE\n",
    "        default_flag = 1\n",
    "    \"\"\"\n",
    "\n",
    "    params = {\n",
    "        \"query\": query,\n",
    "        \"format\": \"csv\"\n",
    "    }\n",
    "\n",
    "    response = requests.get(url, params=params)\n",
    "\n",
    "    if response.status_code == 200:\n",
    "        df = pd.read_csv(StringIO(response.text))\n",
    "        \n",
    "        print(df)\n",
    "        \n",
    "    else:\n",
    "        print(f\"Error: {response.status_code} - {response.text}\")\n",
    "    return df\n",
    "\n",
    "exoplanets_data = get_exoplanets_data_from_nasa()\n",
    "```\n",
    "\n",
    "If you run this cell twice you will notice from the logs that the second time file was read from the compressed file in the cache. If you were to lose access to local cache (e.g. by pulling the repository using different device) `persistio` would fetch the data from the cloud archive.\n",
    "\n",
    "\n",
    "For more information, visit our [documentation](https://github.com/your-repo/reprolab)."
   ]
  },
  {
   "cell_type": "code",
   "execution_count": null,
   "id": "bb014664-9b27-47d5-98a2-6173cb570589",
   "metadata": {},
   "outputs": [],
   "source": []
  },
  {
   "cell_type": "code",
   "execution_count": 4,
   "id": "5e6d3bdb-4782-43af-831f-7a278abdc3bc",
   "metadata": {},
   "outputs": [
    {
     "name": "stdout",
     "output_type": "stream",
     "text": [
      "Trying pip at: /Users/spoton/Documents/master_thesis/poc/reprolab/.my_venv/bin/pip\n",
      "Running command: /Users/spoton/Documents/master_thesis/poc/reprolab/.my_venv/bin/pip freeze\n",
      "Pip dependencies saved to requirements.txt\n",
      "Found 58 packages\n",
      "Not a Conda environment or not activated. Skipping Conda export.\n",
      "\n",
      "To recreate the environment:\n",
      "- For pip: Activate the virtual environment and run: `pip install -r requirements.txt`\n"
     ]
    }
   ],
   "source": [
    "from reprolab.environment import freeze_venv_dependencies\n",
    "freeze_venv_dependencies('.my_venv')"
   ]
  },
  {
   "cell_type": "code",
   "execution_count": null,
   "id": "73015ebf-bc25-4d4b-b210-82fd74cb6e7f",
   "metadata": {},
   "outputs": [
    {
     "name": "stderr",
     "output_type": "stream",
     "text": [
      "2025-06-22 23:56:41 - INFO - Ending experiment process\n",
      "2025-06-22 23:56:41 - INFO - Step 1: Saving all notebooks\n",
      "2025-06-22 23:56:41 - INFO - Attempting to save all Jupyter notebooks...\n",
      "2025-06-22 23:56:41 - INFO - ipylab save command executed successfully\n",
      "2025-06-22 23:56:41 - INFO - nbformat processing completed for 4 notebooks\n"
     ]
    }
   ],
   "source": [
    "end_experiment()"
   ]
  }
 ],
 "metadata": {
  "kernelspec": {
   "display_name": "Python 3 (ipykernel)",
   "language": "python",
   "name": "python3"
  },
  "language_info": {
   "codemirror_mode": {
    "name": "ipython",
    "version": 3
   },
   "file_extension": ".py",
   "mimetype": "text/x-python",
   "name": "python",
   "nbconvert_exporter": "python",
   "pygments_lexer": "ipython3",
   "version": "3.12.7"
  }
 },
 "nbformat": 4,
 "nbformat_minor": 5
}
