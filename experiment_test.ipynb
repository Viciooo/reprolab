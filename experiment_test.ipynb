{
 "cells": [
  {
   "cell_type": "code",
   "execution_count": 1,
   "id": "7d8af587-9c6d-4b7c-90c1-2d1604071b6e",
   "metadata": {
    "scrolled": true
   },
   "outputs": [
    {
     "name": "stdout",
     "output_type": "stream",
     "text": [
      "Saved notebook: Example.ipynb\n",
      "Saved notebook: experiment_test.ipynb\n",
      "Successfully saved 2 notebooks\n",
      "Added saved notebooks to Git staging area\n",
      "Git status before adding files:\n",
      "On branch main\n",
      "Your branch is ahead of 'origin/main' by 8 commits.\n",
      "  (use \"git push\" to publish your local commits)\n",
      "\n",
      "Changes to be committed:\n",
      "  (use \"git restore --staged <file>...\" to unstage)\n",
      "\tmodified:   experiment_test.ipynb\n",
      "\n",
      "Changes not staged for commit:\n",
      "  (use \"git add <file>...\" to update what will be committed)\n",
      "  (use \"git restore <file>...\" to discard changes in working directory)\n",
      "\tmodified:   reprolab/__init__.py\n",
      "\n",
      "Untracked files:\n",
      "  (use \"git add <file>...\" to include in what will be committed)\n",
      "\treprolab/create_experiment.py\n",
      "\n",
      "\n",
      "Git status after adding files:\n",
      "On branch main\n",
      "Your branch is ahead of 'origin/main' by 8 commits.\n",
      "  (use \"git push\" to publish your local commits)\n",
      "\n",
      "Changes to be committed:\n",
      "  (use \"git restore --staged <file>...\" to unstage)\n",
      "\tmodified:   experiment_test.ipynb\n",
      "\n",
      "Changes not staged for commit:\n",
      "  (use \"git add <file>...\" to update what will be committed)\n",
      "  (use \"git restore <file>...\" to discard changes in working directory)\n",
      "\tmodified:   reprolab/__init__.py\n",
      "\n",
      "Untracked files:\n",
      "  (use \"git add <file>...\" to include in what will be committed)\n",
      "\treprolab/create_experiment.py\n",
      "\n",
      "\n",
      "Files staged for commit: ['experiment_test.ipynb']\n",
      "Created commit: Project state before running experiment v1.1.0\n"
     ]
    },
    {
     "data": {
      "text/plain": [
       "'v1.1.0'"
      ]
     },
     "execution_count": 1,
     "metadata": {},
     "output_type": "execute_result"
    }
   ],
   "source": [
    "from reprolab import start_experiment, end_experiment\n",
    "\n",
    "start_experiment()"
   ]
  },
  {
   "cell_type": "code",
   "execution_count": 2,
   "id": "f5e30196-b80c-4b56-b47b-ce9c8100ffc4",
   "metadata": {},
   "outputs": [
    {
     "name": "stdout",
     "output_type": "stream",
     "text": [
      "test5\n"
     ]
    }
   ],
   "source": [
    "print('test5')"
   ]
  },
  {
   "cell_type": "code",
   "execution_count": 5,
   "id": "44e84e14-f799-4090-9fe0-64b009c7281e",
   "metadata": {},
   "outputs": [
    {
     "data": {
      "application/javascript": [
       "\n",
       "            if (typeof Jupyter !== 'undefined') {\n",
       "                Jupyter.notebook.save_checkpoint();\n",
       "            } else if (typeof IPython !== 'undefined') {\n",
       "                IPython.notebook.save_checkpoint();\n",
       "            } else {\n",
       "                console.log(\"Cannot save notebook: Jupyter/IPython not defined\");\n",
       "            }\n",
       "        "
      ],
      "text/plain": [
       "<IPython.core.display.Javascript object>"
      ]
     },
     "metadata": {},
     "output_type": "display_data"
    },
    {
     "name": "stdout",
     "output_type": "stream",
     "text": [
      "Notebook saved successfully.\n"
     ]
    }
   ],
   "source": [
    "from IPython.display import display, Javascript\n",
    "import time\n",
    "\n",
    "def save_notebook():\n",
    "    \"\"\"\n",
    "    Saves the current Jupyter notebook by triggering the save action.\n",
    "    Compatible with Jupyter Notebook and JupyterLab.\n",
    "    \"\"\"\n",
    "    try:\n",
    "        # Trigger the save command via JavaScript\n",
    "        display(Javascript('''\n",
    "            if (typeof Jupyter !== 'undefined') {\n",
    "                Jupyter.notebook.save_checkpoint();\n",
    "            } else if (typeof IPython !== 'undefined') {\n",
    "                IPython.notebook.save_checkpoint();\n",
    "            } else {\n",
    "                console.log(\"Cannot save notebook: Jupyter/IPython not defined\");\n",
    "            }\n",
    "        '''))\n",
    "        time.sleep(0.5)  # Brief pause to ensure save completes\n",
    "        print(\"Notebook saved successfully.\")\n",
    "    except Exception as e:\n",
    "        print(f\"Error saving notebook: {e}\")\n",
    "\n",
    "# Call the function\n",
    "save_notebook()"
   ]
  },
  {
   "cell_type": "code",
   "execution_count": 3,
   "id": "54936bd9-8d57-4139-bf5b-13b4bddd37da",
   "metadata": {},
   "outputs": [
    {
     "name": "stdout",
     "output_type": "stream",
     "text": [
      "Saved notebook: Example.ipynb\n",
      "Saved notebook: experiment_test.ipynb\n",
      "Successfully saved 2 notebooks\n",
      "Added saved notebooks to Git staging area\n",
      "Git status before adding files:\n",
      "On branch main\n",
      "Your branch is ahead of 'origin/main' by 9 commits.\n",
      "  (use \"git push\" to publish your local commits)\n",
      "\n",
      "Changes not staged for commit:\n",
      "  (use \"git add <file>...\" to update what will be committed)\n",
      "  (use \"git restore <file>...\" to discard changes in working directory)\n",
      "\tmodified:   reprolab/__init__.py\n",
      "\n",
      "Untracked files:\n",
      "  (use \"git add <file>...\" to include in what will be committed)\n",
      "\treprolab/create_experiment.py\n",
      "\n",
      "no changes added to commit (use \"git add\" and/or \"git commit -a\")\n",
      "\n",
      "Git status after adding files:\n",
      "On branch main\n",
      "Your branch is ahead of 'origin/main' by 9 commits.\n",
      "  (use \"git push\" to publish your local commits)\n",
      "\n",
      "Changes not staged for commit:\n",
      "  (use \"git add <file>...\" to update what will be committed)\n",
      "  (use \"git restore <file>...\" to discard changes in working directory)\n",
      "\tmodified:   reprolab/__init__.py\n",
      "\n",
      "Untracked files:\n",
      "  (use \"git add <file>...\" to include in what will be committed)\n",
      "\treprolab/create_experiment.py\n",
      "\n",
      "no changes added to commit (use \"git add\" and/or \"git commit -a\")\n",
      "\n",
      "No files staged for commit\n"
     ]
    },
    {
     "data": {
      "text/plain": [
       "''"
      ]
     },
     "execution_count": 3,
     "metadata": {},
     "output_type": "execute_result"
    }
   ],
   "source": [
    "end_experiment()"
   ]
  }
 ],
 "metadata": {
  "kernelspec": {
   "display_name": "Python 3 (ipykernel)",
   "language": "python",
   "name": "python3"
  },
  "language_info": {
   "codemirror_mode": {
    "name": "ipython",
    "version": 3
   },
   "file_extension": ".py",
   "mimetype": "text/x-python",
   "name": "python",
   "nbconvert_exporter": "python",
   "pygments_lexer": "ipython3",
   "version": "3.11.0"
  }
 },
 "nbformat": 4,
 "nbformat_minor": 5
}
