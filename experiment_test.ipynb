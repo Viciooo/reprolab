{
 "cells": [
  {
   "cell_type": "code",
   "execution_count": 1,
   "id": "7d8af587-9c6d-4b7c-90c1-2d1604071b6e",
   "metadata": {
    "scrolled": true
   },
   "outputs": [
    {
     "name": "stdout",
     "output_type": "stream",
     "text": [
      "Saved current notebook using ipylab\n",
      "Added current notebook to Git staging area: experiment_test.ipynb\n",
      "Git status before adding files:\n",
      "On branch main\n",
      "Your branch is ahead of 'origin/main' by 12 commits.\n",
      "  (use \"git push\" to publish your local commits)\n",
      "\n",
      "Changes to be committed:\n",
      "  (use \"git restore --staged <file>...\" to unstage)\n",
      "\tmodified:   experiment_test.ipynb\n",
      "\n",
      "Changes not staged for commit:\n",
      "  (use \"git add <file>...\" to update what will be committed)\n",
      "  (use \"git restore <file>...\" to discard changes in working directory)\n",
      "\tmodified:   reprolab/__init__.py\n",
      "\n",
      "Untracked files:\n",
      "  (use \"git add <file>...\" to include in what will be committed)\n",
      "\treprolab/create_experiment.py\n",
      "\n",
      "\n",
      "Added current notebook: experiment_test.ipynb\n",
      "Git status after adding files:\n",
      "On branch main\n",
      "Your branch is ahead of 'origin/main' by 12 commits.\n",
      "  (use \"git push\" to publish your local commits)\n",
      "\n",
      "Changes to be committed:\n",
      "  (use \"git restore --staged <file>...\" to unstage)\n",
      "\tmodified:   experiment_test.ipynb\n",
      "\n",
      "Changes not staged for commit:\n",
      "  (use \"git add <file>...\" to update what will be committed)\n",
      "  (use \"git restore <file>...\" to discard changes in working directory)\n",
      "\tmodified:   reprolab/__init__.py\n",
      "\n",
      "Untracked files:\n",
      "  (use \"git add <file>...\" to include in what will be committed)\n",
      "\treprolab/create_experiment.py\n",
      "\n",
      "\n",
      "Created commit: Project state before running experiment v1.2.0\n"
     ]
    },
    {
     "data": {
      "text/plain": [
       "'v1.2.0'"
      ]
     },
     "execution_count": 1,
     "metadata": {},
     "output_type": "execute_result"
    }
   ],
   "source": [
    "from reprolab import start_experiment, end_experiment\n",
    "\n",
    "start_experiment()"
   ]
  },
  {
   "cell_type": "code",
   "execution_count": 2,
   "id": "f5e30196-b80c-4b56-b47b-ce9c8100ffc4",
   "metadata": {},
   "outputs": [
    {
     "name": "stdout",
     "output_type": "stream",
     "text": [
      "test8\n"
     ]
    }
   ],
   "source": [
    "print('test8')"
   ]
  },
  {
   "cell_type": "code",
   "execution_count": null,
   "id": "54936bd9-8d57-4139-bf5b-13b4bddd37da",
   "metadata": {},
   "outputs": [],
   "source": [
    "end_experiment()"
   ]
  }
 ],
 "metadata": {
  "kernelspec": {
   "display_name": "Python 3 (ipykernel)",
   "language": "python",
   "name": "python3"
  },
  "language_info": {
   "codemirror_mode": {
    "name": "ipython",
    "version": 3
   },
   "file_extension": ".py",
   "mimetype": "text/x-python",
   "name": "python",
   "nbconvert_exporter": "python",
   "pygments_lexer": "ipython3",
   "version": "3.11.0"
  }
 },
 "nbformat": 4,
 "nbformat_minor": 5
}
