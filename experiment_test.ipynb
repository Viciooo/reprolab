{
 "cells": [
  {
   "cell_type": "code",
   "execution_count": 1,
   "id": "7d8af587-9c6d-4b7c-90c1-2d1604071b6e",
   "metadata": {
    "scrolled": true
   },
   "outputs": [
    {
     "name": "stdout",
     "output_type": "stream",
     "text": [
      "Saving notebooks with outputs...\n",
      "Saved notebook with outputs: Untitled5.ipynb\n",
      "Saved notebook with outputs: Untitled1.ipynb\n",
      "Saved notebook with outputs: Untitled3.ipynb\n",
      "Saved notebook with outputs: Untitled.ipynb\n",
      "Saved notebook with outputs: Untitled4.ipynb\n",
      "Saved notebook with outputs: Untitled2.ipynb\n",
      "Saved notebook with outputs: Example.ipynb\n",
      "Saved notebook with outputs: experiment_test.ipynb\n",
      "Successfully saved 8 notebooks with outputs\n",
      "\n",
      "Current git status:\n",
      "On branch main\n",
      "Your branch is ahead of 'origin/main' by 5 commits.\n",
      "  (use \"git push\" to publish your local commits)\n",
      "\n",
      "Changes not staged for commit:\n",
      "  (use \"git add <file>...\" to update what will be committed)\n",
      "  (use \"git restore <file>...\" to discard changes in working directory)\n",
      "\tmodified:   experiment_test.ipynb\n",
      "\tmodified:   reprolab/__init__.py\n",
      "\n",
      "Untracked files:\n",
      "  (use \"git add <file>...\" to include in what will be committed)\n",
      "\treprolab/create_experiment.py\n",
      "\n",
      "no changes added to commit (use \"git add\" and/or \"git commit -a\")\n",
      "\n",
      "\n",
      "Found 8 notebook files:\n",
      "  Untitled5.ipynb: modified 1750347333.3516936\n",
      "  Untitled1.ipynb: modified 1750347333.353335\n",
      "  Untitled3.ipynb: modified 1750347333.3543572\n",
      "  Untitled.ipynb: modified 1750347333.3550406\n",
      "  Untitled4.ipynb: modified 1750347333.3564627\n",
      "  Untitled2.ipynb: modified 1750347333.357952\n",
      "  Example.ipynb: modified 1750347333.3600292\n",
      "  experiment_test.ipynb: modified 1750347333.3609982\n",
      "\n",
      "Unstaged changes in: ['experiment_test.ipynb', 'reprolab/__init__.py']\n",
      "\n",
      "Staged 1 notebook files\n",
      "  - Modified: experiment_test.ipynb\n",
      "Created commit: Project state before running experiment v1.1.0\n"
     ]
    },
    {
     "data": {
      "text/plain": [
       "'v1.1.0'"
      ]
     },
     "execution_count": 1,
     "metadata": {},
     "output_type": "execute_result"
    }
   ],
   "source": [
    "from reprolab import start_experiment, end_experiment\n",
    "\n",
    "start_experiment()"
   ]
  },
  {
   "cell_type": "code",
   "execution_count": 2,
   "id": "f5e30196-b80c-4b56-b47b-ce9c8100ffc4",
   "metadata": {},
   "outputs": [
    {
     "name": "stdout",
     "output_type": "stream",
     "text": [
      "test1\n"
     ]
    }
   ],
   "source": [
    "print('test2')"
   ]
  },
  {
   "cell_type": "code",
   "execution_count": 3,
   "id": "54936bd9-8d57-4139-bf5b-13b4bddd37da",
   "metadata": {},
   "outputs": [
    {
     "name": "stdout",
     "output_type": "stream",
     "text": [
      "Saving notebooks with outputs...\n",
      "Saved notebook with outputs: Untitled5.ipynb\n",
      "Saved notebook with outputs: Untitled1.ipynb\n",
      "Saved notebook with outputs: Untitled3.ipynb\n",
      "Saved notebook with outputs: Untitled.ipynb\n",
      "Saved notebook with outputs: Untitled4.ipynb\n",
      "Saved notebook with outputs: Untitled2.ipynb\n",
      "Saved notebook with outputs: Example.ipynb\n",
      "Saved notebook with outputs: experiment_test.ipynb\n",
      "Successfully saved 8 notebooks with outputs\n",
      "\n",
      "Current git status:\n",
      "On branch main\n",
      "Your branch is ahead of 'origin/main' by 6 commits.\n",
      "  (use \"git push\" to publish your local commits)\n",
      "\n",
      "Changes not staged for commit:\n",
      "  (use \"git add <file>...\" to update what will be committed)\n",
      "  (use \"git restore <file>...\" to discard changes in working directory)\n",
      "\tmodified:   reprolab/__init__.py\n",
      "\n",
      "Untracked files:\n",
      "  (use \"git add <file>...\" to include in what will be committed)\n",
      "\treprolab/create_experiment.py\n",
      "\n",
      "no changes added to commit (use \"git add\" and/or \"git commit -a\")\n",
      "\n",
      "\n",
      "Found 8 notebook files:\n",
      "  Untitled5.ipynb: modified 1750347335.3524227\n",
      "  Untitled1.ipynb: modified 1750347335.3533719\n",
      "  Untitled3.ipynb: modified 1750347335.3536751\n",
      "  Untitled.ipynb: modified 1750347335.353953\n",
      "  Untitled4.ipynb: modified 1750347335.354677\n",
      "  Untitled2.ipynb: modified 1750347335.3556802\n",
      "  Example.ipynb: modified 1750347335.3574038\n",
      "  experiment_test.ipynb: modified 1750347335.3586264\n",
      "\n",
      "Unstaged changes in: ['reprolab/__init__.py']\n",
      "\n",
      "No notebook files to stage\n",
      "Available .ipynb files: ['Untitled5.ipynb', 'Untitled1.ipynb', 'Untitled3.ipynb', 'Untitled.ipynb', 'Untitled4.ipynb', 'Untitled2.ipynb', 'Example.ipynb', 'experiment_test.ipynb']\n",
      "No changes to commit\n"
     ]
    },
    {
     "data": {
      "text/plain": [
       "''"
      ]
     },
     "execution_count": 3,
     "metadata": {},
     "output_type": "execute_result"
    }
   ],
   "source": [
    "end_experiment()"
   ]
  }
 ],
 "metadata": {
  "kernelspec": {
   "display_name": "Python 3 (ipykernel)",
   "language": "python",
   "name": "python3"
  },
  "language_info": {
   "codemirror_mode": {
    "name": "ipython",
    "version": 3
   },
   "file_extension": ".py",
   "mimetype": "text/x-python",
   "name": "python",
   "nbconvert_exporter": "python",
   "pygments_lexer": "ipython3",
   "version": "3.11.0"
  }
 },
 "nbformat": 4,
 "nbformat_minor": 5
}
