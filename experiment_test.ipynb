{
 "cells": [
  {
   "cell_type": "code",
   "execution_count": 1,
   "id": "7d8af587-9c6d-4b7c-90c1-2d1604071b6e",
   "metadata": {
    "scrolled": true
   },
   "outputs": [
    {
     "name": "stdout",
     "output_type": "stream",
     "text": [
      "Saved notebook: Example.ipynb\n",
      "Saved notebook: experiment_test.ipynb\n",
      "Successfully saved 2 notebooks\n",
      "Created commit: Project state before running experiment v1.1.0\n"
     ]
    },
    {
     "data": {
      "text/plain": [
       "'v1.1.0'"
      ]
     },
     "execution_count": 1,
     "metadata": {},
     "output_type": "execute_result"
    }
   ],
   "source": [
    "from reprolab import start_experiment, end_experiment\n",
    "\n",
    "start_experiment()"
   ]
  },
  {
   "cell_type": "code",
   "execution_count": 2,
   "id": "f5e30196-b80c-4b56-b47b-ce9c8100ffc4",
   "metadata": {},
   "outputs": [
    {
     "name": "stdout",
     "output_type": "stream",
     "text": [
      "test3\n"
     ]
    }
   ],
   "source": [
    "print('test3')"
   ]
  },
  {
   "cell_type": "code",
   "execution_count": 3,
   "id": "54936bd9-8d57-4139-bf5b-13b4bddd37da",
   "metadata": {},
   "outputs": [
    {
     "name": "stdout",
     "output_type": "stream",
     "text": [
      "Saved notebook: Example.ipynb\n",
      "Saved notebook: experiment_test.ipynb\n",
      "Successfully saved 2 notebooks\n",
      "Error creating commit: Command '['git', 'commit', '-m', 'Project state after running experiment v1.1.0']' returned non-zero exit status 1.\n"
     ]
    },
    {
     "data": {
      "text/plain": [
       "''"
      ]
     },
     "execution_count": 3,
     "metadata": {},
     "output_type": "execute_result"
    }
   ],
   "source": [
    "end_experiment()"
   ]
  }
 ],
 "metadata": {
  "kernelspec": {
   "display_name": "Python 3 (ipykernel)",
   "language": "python",
   "name": "python3"
  },
  "language_info": {
   "codemirror_mode": {
    "name": "ipython",
    "version": 3
   },
   "file_extension": ".py",
   "mimetype": "text/x-python",
   "name": "python",
   "nbconvert_exporter": "python",
   "pygments_lexer": "ipython3",
   "version": "3.11.0"
  }
 },
 "nbformat": 4,
 "nbformat_minor": 5
}
