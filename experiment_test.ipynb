{
 "cells": [
  {
   "cell_type": "code",
   "execution_count": null,
   "id": "ab4674f1-2de9-402a-ae1e-43e546d8ec88",
   "metadata": {},
   "outputs": [],
   "source": [
    "# Read and display the ReproLab documentation\n",
    "from IPython.display import Markdown\n",
    "import os\n",
    "\n",
    "# Read the markdown file\n",
    "with open('reprolab_data/demo.md', 'r') as f:\n",
    "    content = f.read()\n",
    "\n",
    "# Display the markdown content\n",
    "Markdown(content)"
   ]
  },
  {
   "cell_type": "code",
   "execution_count": 2,
   "id": "f5e30196-b80c-4b56-b47b-ce9c8100ffc4",
   "metadata": {},
   "outputs": [
    {
     "name": "stdout",
     "output_type": "stream",
     "text": [
      "testing\n"
     ]
    }
   ],
   "source": [
    "print('testing')"
   ]
  }
 ],
 "metadata": {
  "kernelspec": {
   "display_name": "Python 3 (ipykernel)",
   "language": "python",
   "name": "python3"
  },
  "language_info": {
   "codemirror_mode": {
    "name": "ipython",
    "version": 3
   },
   "file_extension": ".py",
   "mimetype": "text/x-python",
   "name": "python",
   "nbconvert_exporter": "python",
   "pygments_lexer": "ipython3",
   "version": "3.11.0"
  }
 },
 "nbformat": 4,
 "nbformat_minor": 5
}
