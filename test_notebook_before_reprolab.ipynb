{
 "cells": [
  {
   "cell_type": "code",
   "execution_count": null,
   "id": "16a01c42-59de-4c4b-a04b-fb4a1d54756c",
   "metadata": {},
   "outputs": [
    {
     "name": "stderr",
     "output_type": "stream",
     "text": [
      "2025-06-24 17:38:00 - INFO - Starting experiment process\n",
      "2025-06-24 17:38:00 - INFO - Step 1: Saving all notebooks\n",
      "2025-06-24 17:38:00 - INFO - Attempting to save all Jupyter notebooks...\n",
      "2025-06-24 17:38:00 - INFO - ipylab save command executed successfully\n",
      "2025-06-24 17:38:00 - INFO - nbformat processing completed for 4 notebooks\n"
     ]
    }
   ],
   "source": [
    "from reprolab.experiment import start_experiment, end_experiment\n",
    "start_experiment()"
   ]
  },
  {
   "cell_type": "code",
   "execution_count": null,
   "id": "0cb11300-04a0-4783-b732-97d85c388cc2",
   "metadata": {},
   "outputs": [],
   "source": [
    "# Cell 1: Loading CSV data from local file\n",
    "!pip install pandas\n",
    "\n",
    "import pandas as pd\n",
    "books_csv = pd.read_csv('books.csv')\n",
    "print(\"Initial CSV data:\")\n",
    "print(books_csv.head())\n"
   ]
  },
  {
   "cell_type": "code",
   "execution_count": null,
   "id": "5a6b18a4-ce37-43e3-9c73-76e3fc87ad9a",
   "metadata": {},
   "outputs": [],
   "source": [
    "# Cell 2: Setting API key\n",
    "%env OPENLIBRARY_API_KEY=your api key\n"
   ]
  },
  {
   "cell_type": "code",
   "execution_count": null,
   "id": "91cc59d4-4968-49fb-a6ac-7fc4fbc59635",
   "metadata": {},
   "outputs": [],
   "source": [
    "# Cell 3: Getting API data\n",
    "!pip install requests\n",
    "import requests\n",
    "import pandas as pd\n",
    "import os\n",
    "\n",
    "\n",
    "def get_book_details(title):\n",
    "    OPENLIBRARY_API_KEY = os.environ['OPENLIBRARY_API_KEY']\n",
    "    \n",
    "    url = f\"https://openlibrary.org/search.json?title={title}&apikey={OPENLIBRARY_API_KEY}\"\n",
    "    response = requests.get(url)\n",
    "    if response.status_code == 200:\n",
    "        data = response.json()\n",
    "        if data['docs']:\n",
    "            book = data['docs'][0]\n",
    "            return {\n",
    "                'isbn': book.get('isbn', ['N/A'])[0],\n",
    "                'page_count': book.get('number_of_pages_median', 0),\n",
    "                'first_publish': book.get('first_publish_year', None)\n",
    "            }\n",
    "    return {'isbn': 'N/A', 'page_count': 0, 'first_publish': None}\n",
    "\n",
    "api_data = books_csv['title'].apply(get_book_details)\n",
    "api_df = pd.DataFrame(api_data.tolist())\n",
    "api_df\n"
   ]
  },
  {
   "cell_type": "code",
   "execution_count": null,
   "id": "c9e34fbe-af7d-426a-8d61-cb33c2df7eed",
   "metadata": {},
   "outputs": [],
   "source": [
    "# Cell 4: Create and track dictionary data\n",
    "book_categories = {\n",
    "    \"The Great Gatsby\": {\"genre\": \"Fiction\", \"rating\": 4.5, \"price\": 12.99},\n",
    "    \"1984\": {\"genre\": \"Dystopian\", \"rating\": 4.8, \"price\": 15.99},\n",
    "    \"To Kill a Mockingbird\": {\"genre\": \"Literary Fiction\", \"rating\": 4.7, \"price\": 14.99}\n",
    "}\n",
    "\n",
    "category_df = pd.DataFrame.from_dict(book_categories, orient='index')\n",
    "category_df.index.name = 'title'\n",
    "category_df = category_df.reset_index()\n",
    "category_df\n"
   ]
  },
  {
   "cell_type": "code",
   "execution_count": null,
   "id": "a735c8c5-60c7-4a30-b6e5-98c9e6ac1854",
   "metadata": {},
   "outputs": [],
   "source": [
    "# Cell 5: Combine datasets and perform transformations\n",
    "from datetime import datetime\n",
    "\n",
    "combined_df = pd.concat([books_csv, api_df], axis=1)\n",
    "final_df = pd.merge(combined_df, category_df, on='title', how='left')\n",
    "\n",
    "current_year = datetime.now().year\n",
    "final_df['book_age'] = current_year - final_df['publication_year']\n",
    "final_df['price_per_page'] = final_df['price'] / final_df['page_count'].replace(0, 1)\n",
    "\n",
    "def rating_category(rating):\n",
    "    if rating >= 4.5:\n",
    "        return 'Excellent'\n",
    "    elif rating >= 4.0:\n",
    "        return 'Good'\n",
    "    else:\n",
    "        return 'Average'\n",
    "\n",
    "final_df['rating_category'] = final_df['rating'].apply(rating_category)\n"
   ]
  },
  {
   "cell_type": "code",
   "execution_count": null,
   "id": "464ff23b-c8f9-43d1-a8e7-13ed773150cf",
   "metadata": {},
   "outputs": [],
   "source": [
    "# Cell 6: Visualize results\n",
    "genre_summary = final_df.groupby('genre').agg({\n",
    "    'rating': 'mean',\n",
    "    'price': 'mean',\n",
    "    'page_count': 'mean'\n",
    "}).round(2)\n",
    "!pip install matplotlib\n",
    "import matplotlib.pyplot as plt\n",
    "\n",
    "plt.figure(figsize=(10, 6))\n",
    "final_df.plot(kind='scatter', x='book_age', y='price', s=final_df['rating']*100, alpha=0.5)\n",
    "plt.title('Book Age vs Price (size = rating)')\n",
    "plt.xlabel('Book Age (years)')\n",
    "plt.ylabel('Price ($)')\n",
    "plt.savefig(\"scatter_plot.png\")\n",
    "plt.show()\n"
   ]
  },
  {
   "cell_type": "code",
   "execution_count": null,
   "id": "d77f6bce-189d-45c0-aaa0-e0aa6140ae38",
   "metadata": {},
   "outputs": [],
   "source": [
    "from reprolab.environment import freeze_venv_dependencies\n",
    "freeze_venv_dependencies('.my_venv')"
   ]
  },
  {
   "cell_type": "code",
   "execution_count": null,
   "id": "d3dbc89c-0d15-4803-b6ea-c75ba635008b",
   "metadata": {},
   "outputs": [],
   "source": [
    "end_experiment()"
   ]
  }
 ],
 "metadata": {
  "kernelspec": {
   "display_name": "Python (.my_venv)",
   "language": "python",
   "name": ".my_venv_kernel"
  },
  "language_info": {
   "codemirror_mode": {
    "name": "ipython",
    "version": 3
   },
   "file_extension": ".py",
   "mimetype": "text/x-python",
   "name": "python",
   "nbconvert_exporter": "python",
   "pygments_lexer": "ipython3",
   "version": "3.12.7"
  }
 },
 "nbformat": 4,
 "nbformat_minor": 5
}
