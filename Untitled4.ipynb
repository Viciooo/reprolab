{
 "cells": [
  {
   "cell_type": "code",
   "execution_count": 1,
   "id": "a6f503fd-7478-47b7-a64a-52e87da6fa53",
   "metadata": {},
   "outputs": [
    {
     "data": {
      "text/markdown": [
       "# ReproLab Demo\n",
       "\n",
       "Welcome to ReproLab! This extension helps you make your research more reproducible.\n",
       "\n",
       "## Features\n",
       "\n",
       "- **Create Experiments**: Save immutable snapshots of your code and data\n",
       "- **Track Metrics**: Monitor execution time and resource usage\n",
       "- **Manage Dependencies**: Automatically gather and pin package versions\n",
       "- **Archive Data**: Store your data securely in AWS S3\n",
       "- **Publish**: Share your work on Zenodo\n",
       "\n",
       "## Getting Started\n",
       "\n",
       "1. Use the sidebar to access ReproLab features\n",
       "2. Create an experiment to save your current state\n",
       "3. Track metrics to monitor performance\n",
       "4. Archive your data for long-term storage\n",
       "5. Publish your work when ready\n",
       "\n",
       "## Example Usage of persistio decorator\n",
       "\n",
       "To cache and archive the datasets you use, both from local files and APIs we developed a simple decorator that put over your function that gets the datasets caches the file both locally and in the cloud so that the dataset you use is archived and the number of calls to external APIs is minimal and you don't need to keep the file around after you run it once.\n",
       "\n",
       "Here is an example using one of NASA open APIs. If you want to test it out yourself, you can copy the code, but you need to provide bucket name and access and secret key in the left-hand panel using the `AWS S3 Configuration` section.\n",
       "\n",
       "```python\n",
       "import requests\n",
       "import pandas as pd\n",
       "from io import StringIO\n",
       "\n",
       "# The two lines below is all that you need to add\n",
       "from reprolab import persistio\n",
       "@persistio()\n",
       "def get_exoplanets_data_from_nasa():\n",
       "    url = \"https://exoplanetarchive.ipac.caltech.edu/TAP/sync\"\n",
       "\n",
       "    query = \"\"\"\n",
       "    SELECT TOP 10\n",
       "        pl_name AS planet_name,\n",
       "        hostname AS host_star,\n",
       "        pl_orbper AS orbital_period_days,\n",
       "        pl_rade AS planet_radius_earth,\n",
       "        disc_year AS discovery_year\n",
       "    FROM\n",
       "        ps\n",
       "    WHERE\n",
       "        default_flag = 1\n",
       "    \"\"\"\n",
       "\n",
       "    params = {\n",
       "        \"query\": query,\n",
       "        \"format\": \"csv\"\n",
       "    }\n",
       "\n",
       "    response = requests.get(url, params=params)\n",
       "\n",
       "    if response.status_code == 200:\n",
       "        df = pd.read_csv(StringIO(response.text))\n",
       "        \n",
       "        print(df)\n",
       "        \n",
       "    else:\n",
       "        print(f\"Error: {response.status_code} - {response.text}\")\n",
       "    return df\n",
       "\n",
       "exoplanets_data = get_exoplanets_data_from_nasa()\n",
       "```\n",
       "\n",
       "If you run this cell twice you will notice from the logs that the second time file was read from the compressed file in the cache. If you were to lose access to local cache (e.g. by pulling the repository using different device) `persistio` would fetch the data from the cloud archive.\n",
       "\n",
       "\n",
       "For more information, visit our [documentation](https://github.com/your-repo/reprolab). \n"
      ],
      "text/plain": [
       "<IPython.core.display.Markdown object>"
      ]
     },
     "execution_count": 1,
     "metadata": {},
     "output_type": "execute_result"
    }
   ],
   "source": [
    "# Read and display the ReproLab documentation\n",
    "from IPython.display import Markdown\n",
    "import os\n",
    "\n",
    "# Read the markdown file\n",
    "with open('reprolab_data/demo.md', 'r') as f:\n",
    "    content = f.read()\n",
    "\n",
    "# Display the markdown content\n",
    "Markdown(content)"
   ]
  },
  {
   "cell_type": "code",
   "execution_count": null,
   "id": "227d371e-5226-42a4-b272-8756485eebb4",
   "metadata": {},
   "outputs": [],
   "source": []
  }
 ],
 "metadata": {
  "kernelspec": {
   "display_name": "Python 3 (ipykernel)",
   "language": "python",
   "name": "python3"
  },
  "language_info": {
   "codemirror_mode": {
    "name": "ipython",
    "version": 3
   },
   "file_extension": ".py",
   "mimetype": "text/x-python",
   "name": "python",
   "nbconvert_exporter": "python",
   "pygments_lexer": "ipython3",
   "version": "3.11.0"
  }
 },
 "nbformat": 4,
 "nbformat_minor": 5
}
