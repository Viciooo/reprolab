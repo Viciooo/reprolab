{
 "cells": [
  {
   "cell_type": "code",
   "execution_count": 1,
   "id": "e0593062-8bd0-4b9b-987e-4a6a88071f58",
   "metadata": {},
   "outputs": [
    {
     "name": "stdout",
     "output_type": "stream",
     "text": [
      "Requirement already satisfied: pandas in /Library/Frameworks/Python.framework/Versions/3.11/lib/python3.11/site-packages (2.2.3)\n",
      "Requirement already satisfied: requests in /Library/Frameworks/Python.framework/Versions/3.11/lib/python3.11/site-packages (2.32.3)\n",
      "Requirement already satisfied: numpy>=1.23.2 in /Library/Frameworks/Python.framework/Versions/3.11/lib/python3.11/site-packages (from pandas) (2.0.0)\n",
      "Requirement already satisfied: python-dateutil>=2.8.2 in /Library/Frameworks/Python.framework/Versions/3.11/lib/python3.11/site-packages (from pandas) (2.9.0.post0)\n",
      "Requirement already satisfied: pytz>=2020.1 in /Library/Frameworks/Python.framework/Versions/3.11/lib/python3.11/site-packages (from pandas) (2024.2)\n",
      "Requirement already satisfied: tzdata>=2022.7 in /Library/Frameworks/Python.framework/Versions/3.11/lib/python3.11/site-packages (from pandas) (2025.2)\n",
      "Requirement already satisfied: charset-normalizer<4,>=2 in /Library/Frameworks/Python.framework/Versions/3.11/lib/python3.11/site-packages (from requests) (3.3.2)\n",
      "Requirement already satisfied: idna<4,>=2.5 in /Library/Frameworks/Python.framework/Versions/3.11/lib/python3.11/site-packages (from requests) (3.7)\n",
      "Requirement already satisfied: urllib3<3,>=1.21.1 in /Library/Frameworks/Python.framework/Versions/3.11/lib/python3.11/site-packages (from requests) (2.2.3)\n",
      "Requirement already satisfied: certifi>=2017.4.17 in /Library/Frameworks/Python.framework/Versions/3.11/lib/python3.11/site-packages (from requests) (2024.8.30)\n",
      "Requirement already satisfied: six>=1.5 in /Library/Frameworks/Python.framework/Versions/3.11/lib/python3.11/site-packages (from python-dateutil>=2.8.2->pandas) (1.16.0)\n"
     ]
    },
    {
     "ename": "ModuleNotFoundError",
     "evalue": "No module named 'xarray'",
     "output_type": "error",
     "traceback": [
      "\u001b[0;31m---------------------------------------------------------------------------\u001b[0m",
      "\u001b[0;31mModuleNotFoundError\u001b[0m                       Traceback (most recent call last)",
      "Cell \u001b[0;32mIn[1], line 7\u001b[0m\n\u001b[1;32m      5\u001b[0m \u001b[38;5;28;01mimport\u001b[39;00m \u001b[38;5;21;01mjson\u001b[39;00m\n\u001b[1;32m      6\u001b[0m \u001b[38;5;28;01mfrom\u001b[39;00m \u001b[38;5;21;01mdatetime\u001b[39;00m \u001b[38;5;28;01mimport\u001b[39;00m datetime\n\u001b[0;32m----> 7\u001b[0m \u001b[38;5;28;01mfrom\u001b[39;00m \u001b[38;5;21;01mreprolab\u001b[39;00m\u001b[38;5;21;01m.\u001b[39;00m\u001b[38;5;21;01marchive_file\u001b[39;00m \u001b[38;5;28;01mimport\u001b[39;00m save_compact, read_compact\n\u001b[1;32m      9\u001b[0m books_csv \u001b[38;5;241m=\u001b[39m pd\u001b[38;5;241m.\u001b[39mread_csv(\u001b[38;5;124m'\u001b[39m\u001b[38;5;124mbooks.csv\u001b[39m\u001b[38;5;124m'\u001b[39m)\n\u001b[1;32m     10\u001b[0m save_compact(books_csv,\u001b[38;5;124m'\u001b[39m\u001b[38;5;124mtesting\u001b[39m\u001b[38;5;124m'\u001b[39m)\n",
      "File \u001b[0;32m~/Documents/master_thesis/poc/reprolab/reprolab/archive_file.py:3\u001b[0m\n\u001b[1;32m      1\u001b[0m \u001b[38;5;28;01mimport\u001b[39;00m \u001b[38;5;21;01mpandas\u001b[39;00m \u001b[38;5;28;01mas\u001b[39;00m \u001b[38;5;21;01mpd\u001b[39;00m\n\u001b[1;32m      2\u001b[0m \u001b[38;5;28;01mimport\u001b[39;00m \u001b[38;5;21;01mnumpy\u001b[39;00m \u001b[38;5;28;01mas\u001b[39;00m \u001b[38;5;21;01mnp\u001b[39;00m\n\u001b[0;32m----> 3\u001b[0m \u001b[38;5;28;01mimport\u001b[39;00m \u001b[38;5;21;01mxarray\u001b[39;00m \u001b[38;5;28;01mas\u001b[39;00m \u001b[38;5;21;01mxr\u001b[39;00m\n\u001b[1;32m      4\u001b[0m \u001b[38;5;28;01mimport\u001b[39;00m \u001b[38;5;21;01mjson\u001b[39;00m\n\u001b[1;32m      5\u001b[0m \u001b[38;5;28;01mimport\u001b[39;00m \u001b[38;5;21;01mgzip\u001b[39;00m\n",
      "\u001b[0;31mModuleNotFoundError\u001b[0m: No module named 'xarray'"
     ]
    }
   ],
   "source": [
    "# Cell 1: Load and track CSV data\n",
    "!pip install pandas requests\n",
    "import pandas as pd\n",
    "import requests\n",
    "import json\n",
    "from datetime import datetime\n",
    "from reprolab.archive_file import save_compact, read_compact\n",
    "\n",
    "books_csv = pd.read_csv('books.csv')\n",
    "save_compact(books_csv,'testing')"
   ]
  },
  {
   "cell_type": "code",
   "execution_count": null,
   "id": "5fcf6577-f3f2-4846-9ff3-4741fc09d01b",
   "metadata": {},
   "outputs": [],
   "source": [
    "books = read_compact('testing')"
   ]
  },
  {
   "cell_type": "code",
   "execution_count": null,
   "id": "6e902a62-cc29-438c-8ce5-94216e100051",
   "metadata": {},
   "outputs": [],
   "source": [
    "for col in books_csv.select_dtypes(include='object').columns:\n",
    "    books_csv[col] = books_csv[col].str.capitalize()\n",
    "books_csv.head()"
   ]
  },
  {
   "cell_type": "code",
   "execution_count": null,
   "id": "b7138ee1-f4e9-4270-b2eb-592efe1f044b",
   "metadata": {},
   "outputs": [],
   "source": [
    "# Cell 2: Fetch and track API data\n",
    "import requests\n",
    "import pandas as pd\n",
    "\n",
    "def get_book_details(title):\n",
    "    url = f\"https://openlibrary.org/search.json?title={title}\"\n",
    "    response = requests.get(url)\n",
    "    if response.status_code == 200:\n",
    "        data = response.json()\n",
    "        if data['docs']:\n",
    "            book = data['docs'][0]\n",
    "            return {\n",
    "                'isbn': book.get('isbn', ['N/A'])[0],\n",
    "                'page_count': book.get('number_of_pages_median', 0),\n",
    "                'first_publish': book.get('first_publish_year', None)\n",
    "            }\n",
    "    return {'isbn': 'N/A', 'page_count': 0, 'first_publish': None}\n",
    "\n",
    "api_data = books_csv['title'].apply(get_book_details)\n",
    "api_df = pd.DataFrame(api_data.tolist())\n",
    "print(\"\\nAPI fetched data:\")\n",
    "print(api_df.head())\n",
    "\n",
    "\n",
    "# Some transformations\n",
    "api_df = api_df.iloc[:-1]\n",
    "\n"
   ]
  },
  {
   "cell_type": "code",
   "execution_count": null,
   "id": "00cb8569-298b-4046-8665-b1ef1679fb00",
   "metadata": {},
   "outputs": [],
   "source": [
    "# Cell 3: Create and track dictionary data\n",
    "book_categories = {\n",
    "    \"The Great Gatsby\": {\"genre\": \"Fiction\", \"rating\": 4.5, \"price\": 12.99},\n",
    "    \"1984\": {\"genre\": \"Dystopian\", \"rating\": 4.8, \"price\": 15.99},\n",
    "    \"To Kill a Mockingbird\": {\"genre\": \"Literary Fiction\", \"rating\": 4.7, \"price\": 14.99}\n",
    "}\n",
    "\n",
    "category_df = pd.DataFrame.from_dict(book_categories, orient='index')\n",
    "category_df.index.name = 'title'\n",
    "category_df = category_df.reset_index()\n",
    "print(\"\\nDictionary data:\")\n",
    "print(category_df.head())\n",
    "\n",
    "# No new inputs originating from ths cell\n"
   ]
  },
  {
   "cell_type": "code",
   "execution_count": null,
   "id": "6543292e-6a86-45d2-ba57-6c2373f22a85",
   "metadata": {},
   "outputs": [],
   "source": [
    "# Cell 4: Merge all data sources and track intermediate result\n",
    "combined_df = pd.concat([books_csv, api_df], axis=1)\n",
    "final_df = pd.merge(combined_df, category_df, on='title', how='left')\n",
    "final_df"
   ]
  },
  {
   "cell_type": "code",
   "execution_count": null,
   "id": "6b9c2ed8-2c5c-4da1-9777-c79e8240389e",
   "metadata": {},
   "outputs": [],
   "source": [
    "# Cell 5: Perform transformations\n",
    "current_year = datetime.now().year\n",
    "final_df['book_age'] = current_year - final_df['publication_year']\n",
    "final_df['price_per_page'] = final_df['price'] / final_df['page_count'].replace(0, 1)\n",
    "\n",
    "def rating_category(rating):\n",
    "    if rating >= 4.5:\n",
    "        return 'Excellent'\n",
    "    elif rating >= 4.0:\n",
    "        return 'Good'\n",
    "    else:\n",
    "        return 'Average'\n",
    "\n",
    "final_df['rating_category'] = final_df['rating'].apply(rating_category)\n",
    "final_df['rating_category']"
   ]
  },
  {
   "cell_type": "code",
   "execution_count": null,
   "id": "0b21ea83-fdc0-4abf-9d1e-84d4e26c3121",
   "metadata": {},
   "outputs": [],
   "source": [
    "!pip install matplotlib\n",
    "# Cell 7: Final analysis and visualization\n",
    "print(\"\\nDataset Statistics:\")\n",
    "print(final_df.describe())\n",
    "\n",
    "genre_summary = final_df.groupby('genre').agg({\n",
    "    'rating': 'mean',\n",
    "    'price': 'mean',\n",
    "    'page_count': 'mean'\n",
    "}).round(2)\n",
    "\n",
    "print(\"\\nGenre Summary:\")\n",
    "print(genre_summary)\n",
    "\n",
    "import matplotlib.pyplot as plt\n",
    "\n",
    "plt.figure(figsize=(10, 6))\n",
    "final_df.plot(kind='scatter', x='book_age', y='price', s=final_df['rating']*100, alpha=0.5)\n",
    "plt.title('Book Age vs Price (size = rating)')\n",
    "plt.xlabel('Book Age (years)')\n",
    "plt.ylabel('Price ($)')\n",
    "plt.show()"
   ]
  },
  {
   "cell_type": "code",
   "execution_count": null,
   "id": "46bd2362-ba48-4ec6-a46d-1e779dcedfbe",
   "metadata": {},
   "outputs": [],
   "source": []
  }
 ],
 "metadata": {
  "kernelspec": {
   "display_name": "Python 3 (ipykernel)",
   "language": "python",
   "name": "python3"
  },
  "language_info": {
   "codemirror_mode": {
    "name": "ipython",
    "version": 3
   },
   "file_extension": ".py",
   "mimetype": "text/x-python",
   "name": "python",
   "nbconvert_exporter": "python",
   "pygments_lexer": "ipython3",
   "version": "3.11.0"
  }
 },
 "nbformat": 4,
 "nbformat_minor": 5
}
